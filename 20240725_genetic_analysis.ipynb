{
 "cells": [
  {
   "cell_type": "code",
   "execution_count": null,
   "id": "d6b86e02-95ae-4cf1-8a87-2433a17562ab",
   "metadata": {
    "vscode": {
     "languageId": "r"
    }
   },
   "outputs": [],
   "source": [
    "# \"Relationship between maternal serotonin levels and autism-associated genetic variants\"\n",
    "# 20240725"
   ]
  },
  {
   "cell_type": "markdown",
   "id": "25490860-e229-44e0-8326-85c5b2a8c2c7",
   "metadata": {},
   "source": [
    "# Initialize environment"
   ]
  },
  {
   "cell_type": "markdown",
   "id": "3c77af6e-d3bf-465d-9aae-eca65fd2f7f0",
   "metadata": {},
   "source": [
    "## Libraries"
   ]
  },
  {
   "cell_type": "code",
   "execution_count": null,
   "id": "4b526ab8-5107-44e0-8452-7e849897e34f",
   "metadata": {
    "vscode": {
     "languageId": "r"
    }
   },
   "outputs": [],
   "source": [
    "PACKAGES <- rlang::quos(\n",
    "    arm,\n",
    "    here,\n",
    "    boot,\n",
    "    broom,\n",
    "    e1071,\n",
    "    EnvStats,\n",
    "    fs,\n",
    "    ggplot2,\n",
    "    gt,\n",
    "    gtsummary,\n",
    "    janitor,\n",
    "    patchwork,\n",
    "    quantreg,\n",
    "    readxl,\n",
    "    skimr,\n",
    "    tidyverse,\n",
    "    WRS2)\n",
    "\n",
    "lapply(PACKAGES, rlang::quo_name) |> lapply(library, character.only = TRUE) |>\n",
    "    invisible()\n",
    "\n",
    "message(\"Loaded libraries.\")"
   ]
  },
  {
   "cell_type": "markdown",
   "id": "52a2543f-1c29-45e2-a4b2-16d80f819fea",
   "metadata": {},
   "source": [
    "## Paths"
   ]
  },
  {
   "cell_type": "code",
   "execution_count": null,
   "id": "3405352a-f90e-4b32-9980-39ef709fbfa1",
   "metadata": {
    "vscode": {
     "languageId": "r"
    }
   },
   "outputs": [],
   "source": [
    "ROOT <- path(\n",
    "    'data', \n",
    "    'raw')\n",
    "\n",
    "MASTER <- path(\n",
    "    '0_MASTER',\n",
    "    '_20231212_UIC_Vanderbilt_de_novo_SNV-InDel_CNV_MASTER_v4_SERT_excluded.xlsx')\n",
    "\n",
    "MASTER_PRIOR <- path(\n",
    "    '0_MASTER',\n",
    "    '_2022-11-29_UIC_Vanderbilt_de_novo_SNV-InDel_CNV_MASTER_v4_pared_downloaded_20221201.xlsx')\n",
    "\n",
    "SSC_DESCRIPTIVES <- path(\n",
    "    '6_SSC_Version_15_Phenotype_Data_Set',\n",
    "    'Proband_Data',\n",
    "    'ssc_core_descriptive.csv')\n",
    "\n",
    "ACE_DEMOGRAPHICS <- path(\n",
    "    'UIC_ACE_Demo_2023-09-22.xlsx')\n",
    "\n",
    "PGS <- path(\n",
    "    'ssc_asd_pgs_euro_2022-04-18.csv')\n",
    "\n",
    "VARIANT_DATA <- path(\n",
    "    '2024-03-22_Supplemental_Table_v1_no_headings.xlsx')"
   ]
  },
  {
   "cell_type": "markdown",
   "id": "38a9aabc-bd32-4d66-90e0-4550a730a3ef",
   "metadata": {},
   "source": [
    "## Constants"
   ]
  },
  {
   "cell_type": "code",
   "execution_count": null,
   "id": "baaca8a5-ccf9-4092-977d-6762e04ebc66",
   "metadata": {
    "tags": [],
    "vscode": {
     "languageId": "r"
    }
   },
   "outputs": [],
   "source": [
    "QUANTILES <- c(0.10, 0.25, 0.50, 0.75, 0.90)\n",
    "\n",
    "# p value threshold\n",
    "THRESHOLD <- 2\n",
    "\n",
    "X_LABELS <- c(\n",
    "        \"0.1%\",\n",
    "        \"0.25%\",\n",
    "        \"0.50%\",\n",
    "        \"0.75%\",\n",
    "        \"0.9%\")\n",
    "\n",
    "Y_LABELS <- c(\n",
    "        \"Latino/Latina ethnicity\",\n",
    "        \"Asian race\",\n",
    "        \"Black race\",\n",
    "        \"White race\",\n",
    "        \"Male sex\",\n",
    "        \"Vanderbilt study site\",\n",
    "        \"Maternal whole blood serotonin\")\n",
    "\n",
    "P_ROUND_FACTOR <- 3"
   ]
  },
  {
   "cell_type": "markdown",
   "id": "3069eae5-eea3-4ddb-b1cf-c97996d18839",
   "metadata": {},
   "source": [
    "# Import data"
   ]
  },
  {
   "cell_type": "code",
   "execution_count": null,
   "id": "80a01401-4abe-40f8-9a9f-03ee6fee472a",
   "metadata": {
    "vscode": {
     "languageId": "r"
    }
   },
   "outputs": [],
   "source": [
    "df_master <- \n",
    "    read_excel(here(ROOT, MASTER), sheet = \"Single row per Subject\") |>\n",
    "\n",
    "    rename(\n",
    "        site = UIC_VAN,\n",
    "        id = ID_Consolidated,\n",
    "        relationship = Relationship,\n",
    "        wb5ht = WB5HT,\n",
    "        wb5ht_maternal = m_WB5HT,\n",
    "        wb5ht_paternal = p_WB5HT,\n",
    "        variant = Include_Variant) |>\n",
    "\n",
    "    mutate(\n",
    "        wb5ht_transformed = log10(wb5ht),\n",
    "        wb5ht_maternal_transformed = log10(wb5ht_maternal))\n",
    "\n",
    "df_master$site <- as_factor(df_master$site)\n",
    "\n",
    "df_master$site <- fct_recode(df_master$site,\n",
    "    \"UIC\" = \"1\",\n",
    "    \"Vanderbilt\" = \"2\",\n",
    "    \"Vanderbilt\" = \"3\",\n",
    "    \"UIC\" = \"4\",\n",
    "    \"UIC\" = \"5\")\n",
    "\n",
    "df_ssc_descriptives <- \n",
    "    read_csv(here(ROOT, SSC_DESCRIPTIVES)) |>\n",
    "    rename(id = individual) |>\n",
    "    rename(age = age_at_ados)\n",
    "\n",
    "df <- df_master |> \n",
    "    left_join(df_ssc_descriptives, by = \"id\") |>\n",
    "\n",
    "    distinct(id, .keep_all = TRUE) |>\n",
    "\n",
    "    mutate(\n",
    "        race_white = if_else(race==\"white\", 1, 0),\n",
    "        race_black = if_else(race==\"african-amer\", 1, 0),\n",
    "        race_asian = if_else(race==\"asian\", 1, 0),\n",
    "        race_other = if_else(race==\"other\", 1, 0),\n",
    "        race_more_than_one = if_else(race==\"more-than-one-race\", 1, 0),\n",
    "        race_not_specified = if_else(race==\"not_specified\", 1, 0),\n",
    "    \n",
    "        ethnicity_latin = if_else(ethnicity==\"hispanic\", 1, 0))\n",
    "\n",
    "df_ace_demographics <- \n",
    "    read_excel(here(ROOT, ACE_DEMOGRAPHICS), sheet = \"UIC_ACE_Demo_2023-09-22\") |>\n",
    "\n",
    "    rename(\n",
    "        id = dbGaP_SAMPLE_ID,\n",
    "        relationship_ace = Rel_to_Proband,\n",
    "        age = Draw_Age_Months,\n",
    "        sex_ace = Sex_numerical,\n",
    "        ancestry_ace = Ancestry,\n",
    "        ethnicity_ace = Ethnicity,\n",
    "        race_ace = Race) |>\n",
    "\n",
    "    select(-relationship_ace)\n",
    "\n",
    "df_ace_demographics <- df_ace_demographics |>\n",
    "    mutate(\n",
    "        sex = if_else(sex_ace==1, \"male\", \"female\"),\n",
    "\n",
    "        race_white = if_else(race_ace==1, 1, 0),\n",
    "        race_black = if_else(race_ace==2, 1, 0),\n",
    "        race_asian = if_else(race_ace==4, 1, 0),\n",
    "        race_other = if_else(race_ace==5 | race_ace==6, 1, 0),\n",
    "        race_more_than_one = if_else(race_ace==10, 1, 0),\n",
    "        race_not_specified = if_else(race_ace==9, 1, 0),\n",
    "\n",
    "        ethnicity_latin = if_else(ethnicity_ace==1, 1, 0)) |>\n",
    "\n",
    "    select(-c(NDAR_GUID, Family_ID, sex_ace, ancestry_ace, ethnicity_ace, race_ace))\n",
    "\n",
    "df <- df |> rows_update(df_ace_demographics, by = \"id\", unmatched = \"ignore\")\n",
    "\n",
    "df_pgs <- \n",
    "    read_csv(here(ROOT, PGS)) |>\n",
    "    \n",
    "    rename(\n",
    "        id = individual,\n",
    "        relationship = fam)"
   ]
  },
  {
   "cell_type": "markdown",
   "id": "e8face07-c488-4ba6-8dd8-c68aaf44c9ab",
   "metadata": {},
   "source": [
    "# Set up dataframes"
   ]
  },
  {
   "cell_type": "markdown",
   "id": "cad41053-366e-4280-a0d7-6ea2316cbb99",
   "metadata": {},
   "source": [
    "## Paternal"
   ]
  },
  {
   "cell_type": "code",
   "execution_count": null,
   "id": "85fe742a-135f-45bc-9344-1fb1d4bd2aae",
   "metadata": {
    "vscode": {
     "languageId": "r"
    }
   },
   "outputs": [],
   "source": [
    "df_genetic_paternal <- df |> filter(relationship==\"Proband/ASD\" & !is.na(wb5ht_paternal))\n",
    "\n",
    "df_genetic_variant_paternal <- df_genetic_paternal |> filter(variant==1)\n",
    "\n",
    "df_genetic_no_variant_paternal <- df_genetic_paternal |> filter(variant==0)"
   ]
  },
  {
   "cell_type": "code",
   "execution_count": null,
   "id": "cfabe811-c69e-46b8-bb81-da0ff05c8d56",
   "metadata": {
    "vscode": {
     "languageId": "r"
    }
   },
   "outputs": [],
   "source": [
    "rosnerTest(df_genetic_variant_paternal$wb5ht_paternal, k = 10)$all.stats\n",
    "\n",
    "df_genetic_variant_paternal <- df_genetic_variant_paternal |> filter(wb5ht_paternal < 406.53691)"
   ]
  },
  {
   "cell_type": "code",
   "execution_count": null,
   "id": "0d0c03aa-20d4-473a-9faa-43609aba6d24",
   "metadata": {
    "vscode": {
     "languageId": "r"
    }
   },
   "outputs": [],
   "source": [
    "rosnerTest(df_genetic_no_variant_paternal$wb5ht_paternal, k = 10)$all.stats\n",
    "\n",
    "df_genetic_paternal <- bind_rows(df_genetic_variant_paternal, df_genetic_no_variant_paternal)"
   ]
  },
  {
   "cell_type": "code",
   "execution_count": null,
   "id": "505ad182-f563-4e8c-b3ac-9b3310f30cab",
   "metadata": {
    "vscode": {
     "languageId": "r"
    }
   },
   "outputs": [],
   "source": [
    "df_genetic_paternal$variant <- as.factor(df_genetic_paternal$variant)"
   ]
  },
  {
   "cell_type": "markdown",
   "id": "4053e6d3-2511-4d73-b89b-ab86baa5c4d0",
   "metadata": {},
   "source": [
    "## Proband"
   ]
  },
  {
   "cell_type": "code",
   "execution_count": null,
   "id": "012d4afb-97c4-4afc-a7ff-b886f3f92083",
   "metadata": {
    "vscode": {
     "languageId": "r"
    }
   },
   "outputs": [],
   "source": [
    "df_genetic_proband <- df |> filter(relationship==\"Proband/ASD\" & !is.na(wb5ht))\n",
    "\n",
    "df_genetic_variant_proband <- df_genetic_proband |> filter(variant==1)\n",
    "\n",
    "df_genetic_no_variant_proband <- df_genetic_proband |> filter(variant==0)"
   ]
  },
  {
   "cell_type": "code",
   "execution_count": null,
   "id": "a6f01019-744f-4df6-aaf3-9ae5d494a2f9",
   "metadata": {
    "vscode": {
     "languageId": "r"
    }
   },
   "outputs": [],
   "source": [
    "rosnerTest(df_genetic_variant_proband$wb5ht, k = 10)$all.stats\n",
    "\n",
    "df_genetic_variant_proband <- df_genetic_variant_proband |> filter(wb5ht < 665)"
   ]
  },
  {
   "cell_type": "code",
   "execution_count": null,
   "id": "42085433-68e5-4fc3-a385-fcc3da32dd9d",
   "metadata": {
    "vscode": {
     "languageId": "r"
    }
   },
   "outputs": [],
   "source": [
    "rosnerTest(df_genetic_no_variant_proband$wb5ht, k = 10)$all.stats\n",
    "\n",
    "df_genetic_no_variant_proband <- df_genetic_no_variant_proband |> filter(wb5ht < 609)"
   ]
  },
  {
   "cell_type": "code",
   "execution_count": null,
   "id": "b93087ae-7528-4b4f-9902-31e05b71468f",
   "metadata": {
    "vscode": {
     "languageId": "r"
    }
   },
   "outputs": [],
   "source": [
    "df_genetic_proband_no_outliers <- bind_rows(df_genetic_variant_proband, df_genetic_no_variant_proband)"
   ]
  },
  {
   "cell_type": "code",
   "execution_count": null,
   "id": "f0c45f73-46aa-425b-a8d2-33511a053708",
   "metadata": {
    "vscode": {
     "languageId": "r"
    }
   },
   "outputs": [],
   "source": [
    "df_genetic_proband_no_outliers$variant <- as.factor(df_genetic_proband_no_outliers$variant)"
   ]
  },
  {
   "cell_type": "markdown",
   "id": "417a5225-4832-46b0-a778-7aec9b067d98",
   "metadata": {},
   "source": [
    "## Maternal"
   ]
  },
  {
   "cell_type": "code",
   "execution_count": null,
   "id": "c0250c1d-8b51-4e39-a54a-ac1d1c6d4948",
   "metadata": {
    "vscode": {
     "languageId": "r"
    }
   },
   "outputs": [],
   "source": [
    "df_genetic <- df |> filter(relationship==\"Proband/ASD\" & !is.na(wb5ht_maternal))\n",
    "\n",
    "df_genetic_variant <- df_genetic |> filter(variant==1)\n",
    "\n",
    "df_genetic_no_variant <- df_genetic |> filter(variant==0)"
   ]
  },
  {
   "cell_type": "code",
   "execution_count": null,
   "id": "1d32f186-5385-4e78-99b2-9aa46b267b1f",
   "metadata": {
    "vscode": {
     "languageId": "r"
    }
   },
   "outputs": [],
   "source": [
    "rosnerTest(df_genetic_variant$wb5ht_maternal, k = 10)$all.stats\n",
    "\n",
    "df_genetic_variant <- df_genetic_variant |> filter(wb5ht_maternal < 290.74000)"
   ]
  },
  {
   "cell_type": "code",
   "execution_count": null,
   "id": "46e56a03-004e-42c5-8045-cf16e7dc9b1b",
   "metadata": {
    "vscode": {
     "languageId": "r"
    }
   },
   "outputs": [],
   "source": [
    "rosnerTest(df_genetic_no_variant$wb5ht_maternal, k = 10)$all.stats\n",
    "\n",
    "df_genetic_no_outliers <- bind_rows(df_genetic_variant, df_genetic_no_variant)"
   ]
  },
  {
   "cell_type": "code",
   "execution_count": null,
   "id": "9ece03cc-900b-40f6-a01d-dee568358fc5",
   "metadata": {
    "vscode": {
     "languageId": "r"
    }
   },
   "outputs": [],
   "source": [
    "df_genetic_no_outliers$variant <- as_factor(df_genetic_no_outliers$variant)"
   ]
  },
  {
   "cell_type": "markdown",
   "id": "995d8a16-26bf-4ff5-8aba-b64f4f6b1cde",
   "metadata": {},
   "source": [
    "# Get variant data"
   ]
  },
  {
   "cell_type": "code",
   "execution_count": null,
   "id": "1323fdac-735f-4f29-a422-f4c9cd5785ad",
   "metadata": {
    "vscode": {
     "languageId": "r"
    }
   },
   "outputs": [],
   "source": [
    "df_variant_data <- \n",
    "    read_excel(here(ROOT, VARIANT_DATA), sheet = \"Supplemental Table 1\") |>\n",
    "    rename(\n",
    "        id = ID_Consolidated)"
   ]
  },
  {
   "cell_type": "code",
   "execution_count": null,
   "id": "78d3d05d-1ec6-481d-8fed-4886b8bf20c0",
   "metadata": {
    "vscode": {
     "languageId": "r"
    }
   },
   "outputs": [],
   "source": [
    "df_variant_data <- df_variant_data %>%\n",
    "  mutate(id = str_replace_all(id, \"_\", \"@\"))"
   ]
  },
  {
   "cell_type": "code",
   "execution_count": null,
   "id": "fdc1b934-68c7-4e65-bbd4-589de7677212",
   "metadata": {
    "vscode": {
     "languageId": "r"
    }
   },
   "outputs": [],
   "source": [
    "df_variant_data_variants <- df_variant_data |> filter(Include_Variant1==1)"
   ]
  },
  {
   "cell_type": "code",
   "execution_count": null,
   "id": "e6cd0041-bdf2-4e60-ba5b-7454f93308a7",
   "metadata": {
    "vscode": {
     "languageId": "r"
    }
   },
   "outputs": [],
   "source": [
    "df_variant_data_variants |> select('id', 'SNV gene', 'CNV', 'DelDup', 'Inheritance', 'Maternal WB5-HT (ng/mL)')"
   ]
  },
  {
   "cell_type": "code",
   "execution_count": null,
   "id": "34677f56-ab1a-46a8-8abf-078ca16c40a2",
   "metadata": {
    "vscode": {
     "languageId": "r"
    }
   },
   "outputs": [],
   "source": [
    "df_genetic_with_variant_data <- df_genetic_no_outliers |> left_join(df_variant_data, by = \"id\")"
   ]
  },
  {
   "cell_type": "code",
   "execution_count": null,
   "id": "28a91931-4755-4e33-b85a-8bab87adb21a",
   "metadata": {
    "vscode": {
     "languageId": "r"
    }
   },
   "outputs": [],
   "source": [
    "df_variants <- df_genetic_with_variant_data |> filter(variant==1)"
   ]
  },
  {
   "cell_type": "code",
   "execution_count": null,
   "id": "15a27657-aa83-41bd-bc68-41f616a59357",
   "metadata": {
    "vscode": {
     "languageId": "r"
    }
   },
   "outputs": [],
   "source": [
    "df_variants_index <- df_variants |> select('SNV gene', 'CNV', 'DelDup', 'Inheritance')"
   ]
  },
  {
   "cell_type": "code",
   "execution_count": null,
   "id": "29fa9bd1-818c-4e47-93d3-7d99e8d0a006",
   "metadata": {
    "vscode": {
     "languageId": "r"
    }
   },
   "outputs": [],
   "source": [
    "cnvs <- df_variants_index |> select('CNV', 'DelDup', 'Inheritance')"
   ]
  },
  {
   "cell_type": "code",
   "execution_count": null,
   "id": "fe32ea5f-a873-4a24-98c9-2460356dcd90",
   "metadata": {
    "vscode": {
     "languageId": "r"
    }
   },
   "outputs": [],
   "source": [
    "cnvs |> write_csv('cnvs.csv')"
   ]
  },
  {
   "cell_type": "code",
   "execution_count": null,
   "id": "837e90bd-986e-491e-8156-39859af71080",
   "metadata": {
    "vscode": {
     "languageId": "r"
    }
   },
   "outputs": [],
   "source": [
    "snvs <- df_variants_index |> select('SNV gene', 'Inheritance')"
   ]
  },
  {
   "cell_type": "code",
   "execution_count": null,
   "id": "b5c5aa19-412b-4dfd-bae9-89e0f9cf4c31",
   "metadata": {
    "vscode": {
     "languageId": "r"
    }
   },
   "outputs": [],
   "source": [
    "snvs |> write_csv('snvs.csv')"
   ]
  },
  {
   "cell_type": "markdown",
   "id": "8674cb06-da27-4ca7-b7b7-220aef1d7419",
   "metadata": {},
   "source": [
    "# Figure"
   ]
  },
  {
   "cell_type": "markdown",
   "id": "9430a807-c2f7-43b9-8efa-023ad08022db",
   "metadata": {},
   "source": [
    "## Setup"
   ]
  },
  {
   "cell_type": "code",
   "execution_count": null,
   "id": "916ad752-6712-460c-a114-602c37326701",
   "metadata": {
    "vscode": {
     "languageId": "r"
    }
   },
   "outputs": [],
   "source": [
    "df_genetic_proband_no_outliers$wb5ht |> range()\n",
    "\n",
    "df_genetic_paternal$wb5ht_paternal |> range()\n",
    "\n",
    "df_genetic_no_outliers$wb5ht_maternal |> range()"
   ]
  },
  {
   "cell_type": "code",
   "execution_count": null,
   "id": "59322bd0-9797-4372-aead-4938fb8e292f",
   "metadata": {
    "vscode": {
     "languageId": "r"
    }
   },
   "outputs": [],
   "source": [
    "YMIN <- 51.54\n",
    "\n",
    "YMAX <- 545"
   ]
  },
  {
   "cell_type": "code",
   "execution_count": null,
   "id": "95c1532f-6843-4056-a4c6-89d083a6ec7d",
   "metadata": {
    "vscode": {
     "languageId": "r"
    }
   },
   "outputs": [],
   "source": [
    "levels(df_genetic_no_outliers$variant) <- c(\"Non-carrier\", \"Rare variant carrier\")\n",
    "\n",
    "levels(df_genetic_proband_no_outliers$variant) <- c(\"Non-carrier\", \"Rare variant carrier\")\n",
    "\n",
    "levels(df_genetic_paternal$variant) <- c(\"Non-carrier\", \"Rare variant carrier\")"
   ]
  },
  {
   "cell_type": "code",
   "execution_count": null,
   "id": "6eb74da0-ef9c-41a3-9366-f68afd6698f3",
   "metadata": {
    "vscode": {
     "languageId": "r"
    }
   },
   "outputs": [],
   "source": [
    "df_non_variants <- df_genetic_no_outliers |> filter(variant==\"Non-carrier\")"
   ]
  },
  {
   "cell_type": "code",
   "execution_count": null,
   "id": "ac91ae01-3bc2-4054-a0e4-6079579d50e4",
   "metadata": {
    "vscode": {
     "languageId": "r"
    }
   },
   "outputs": [],
   "source": [
    "df_variants <- df_genetic_no_outliers |> filter(variant==\"Rare variant carrier\")"
   ]
  },
  {
   "cell_type": "code",
   "execution_count": null,
   "id": "3d3999cf-e62d-4c75-9620-ff04a024aca5",
   "metadata": {
    "vscode": {
     "languageId": "r"
    }
   },
   "outputs": [],
   "source": [
    "cor.test(df_variants$wb5ht_maternal_transformed, df_variants$wb5ht_transformed, method = \"pearson\") |> tidy()"
   ]
  },
  {
   "cell_type": "code",
   "execution_count": null,
   "id": "fd134b01-d711-4ae4-a5d0-7c8fda1f6aad",
   "metadata": {
    "vscode": {
     "languageId": "r"
    }
   },
   "outputs": [],
   "source": [
    "cor.test(df_non_variants$wb5ht_maternal_transformed, df_non_variants$wb5ht_transformed, method = \"pearson\") |> tidy()"
   ]
  },
  {
   "cell_type": "markdown",
   "id": "633b0e9a-d628-48f9-9ca9-ccb29de379f2",
   "metadata": {},
   "source": [
    "## Build panels"
   ]
  },
  {
   "cell_type": "markdown",
   "id": "ddea8bbb-7592-4536-91da-2d5232b253a1",
   "metadata": {},
   "source": [
    "### A (blank)"
   ]
  },
  {
   "cell_type": "code",
   "execution_count": null,
   "id": "fdefe176-bfd5-4c49-837c-556c75f925fc",
   "metadata": {
    "vscode": {
     "languageId": "r"
    }
   },
   "outputs": [],
   "source": [
    "df_conceptual <- df_genetic_no_outliers\n",
    "\n",
    "df_conceptual <- df_conceptual |> mutate(non_control = 1)\n",
    "\n",
    "df_conceptual$non_control <- as.factor(df_conceptual$non_control)\n",
    "\n",
    "levels(df_conceptual$non_control) <- c(\"Autistic offspring\", \"Non-autistic offspring (hypothetical)\")\n",
    "\n",
    "a_plot <- ggplot() + \n",
    "    theme(legend.position = \"none\",\n",
    "          panel.grid.major = element_blank(),\n",
    "          panel.grid.minor = element_blank(),\n",
    "          axis.text.y=element_blank(),\n",
    "          axis.ticks.y=element_blank()) +\n",
    "    labs(\n",
    "        y = \"\",\n",
    "        x = \"\") +\n",
    "    ylim(YMIN, YMAX)"
   ]
  },
  {
   "cell_type": "markdown",
   "id": "fcbcab61-e185-4031-a857-7a5357c2615c",
   "metadata": {},
   "source": [
    "### B (maternal)"
   ]
  },
  {
   "cell_type": "code",
   "execution_count": null,
   "id": "d1f2c6e0-102c-463a-9bfd-09ec059fd62e",
   "metadata": {
    "vscode": {
     "languageId": "r"
    }
   },
   "outputs": [],
   "source": [
    "b_plot <- ggplot(df_genetic_no_outliers, aes(x=variant, y=wb5ht_maternal)) + \n",
    "    geom_violin(\n",
    "        alpha = 0.5, \n",
    "        aes(fill = variant), \n",
    "        draw_quantiles = c(0.10, 0.25, 0.50, 0.75, 0.90),\n",
    "        adjust=1,\n",
    "        scale=\"width\",\n",
    "        trim=TRUE) +\n",
    "    geom_point(position = position_jitter(seed = 1, width = 0.2), alpha = 0.5, size = 0.5) +\n",
    "    theme(legend.position = \"none\",\n",
    "          panel.grid.major = element_blank(),\n",
    "          panel.grid.minor = element_blank(),\n",
    "          plot.margin = unit(c(0,0,0,0), \"cm\")) +\n",
    "    labs(\n",
    "        y = \"Maternal WB5-HT (ng/ml)\",\n",
    "        x = \"Proband genetic status\") +\n",
    "    scale_fill_brewer(palette=\"Set1\") +\n",
    "    ylim(YMIN, YMAX)\n"
   ]
  },
  {
   "cell_type": "code",
   "execution_count": null,
   "id": "e217e1de-7bbe-4576-bb1b-c6ebdf9c5464",
   "metadata": {
    "vscode": {
     "languageId": "r"
    }
   },
   "outputs": [],
   "source": [
    "datapoints <- df_genetic_no_outliers |> select(id, variant, wb5ht_maternal)"
   ]
  },
  {
   "cell_type": "code",
   "execution_count": null,
   "id": "4b2c4000-e348-4d9f-85db-51dfeb648ab0",
   "metadata": {
    "vscode": {
     "languageId": "r"
    }
   },
   "outputs": [],
   "source": [
    "datapoints <- datapoints |> mutate(id = as.character(row_number()))"
   ]
  },
  {
   "cell_type": "code",
   "execution_count": null,
   "id": "57bb274e-26b0-40b7-b7bc-8a4c0751eefc",
   "metadata": {
    "vscode": {
     "languageId": "r"
    }
   },
   "outputs": [],
   "source": [
    "datapoints_b <- datapoints |> mutate(panel = \"B\")"
   ]
  },
  {
   "cell_type": "markdown",
   "id": "4c69ed3c-6fdb-4976-a3f0-66c0ecd53729",
   "metadata": {},
   "source": [
    "### C (proband)"
   ]
  },
  {
   "cell_type": "code",
   "execution_count": null,
   "id": "cd41885f-4125-464c-aeef-1bf022825c26",
   "metadata": {
    "vscode": {
     "languageId": "r"
    }
   },
   "outputs": [],
   "source": [
    "c_plot <- ggplot(df_genetic_proband_no_outliers, aes(x=variant, y=wb5ht)) + \n",
    "    geom_violin(\n",
    "        alpha = 0.5, \n",
    "        aes(fill = variant), \n",
    "        draw_quantiles = c(0.10, 0.25, 0.50, 0.75, 0.90),\n",
    "        scale=\"width\",\n",
    "        adjust=1,\n",
    "        trim=TRUE) +    \n",
    "    geom_point(position = position_jitter(seed = 1, width = 0.2), alpha = 0.5, size = 0.5) +\n",
    "    theme(legend.position = \"none\",\n",
    "          panel.grid.major = element_blank(),\n",
    "          panel.grid.minor = element_blank()) +\n",
    "    labs(\n",
    "        y = \"Proband WB5-HT (ng/ml)\",\n",
    "        x = \"Proband genetic status\") +\n",
    "    scale_fill_brewer(palette=\"Set1\") +\n",
    "    ylim(YMIN, YMAX)"
   ]
  },
  {
   "cell_type": "code",
   "execution_count": null,
   "id": "6a82ce29-8b1a-48ce-a1a2-c924d8b020f8",
   "metadata": {
    "vscode": {
     "languageId": "r"
    }
   },
   "outputs": [],
   "source": [
    "datapoints <- df_genetic_proband_no_outliers |> select(id, variant, wb5ht)"
   ]
  },
  {
   "cell_type": "code",
   "execution_count": null,
   "id": "6ccea234-f512-48b4-963b-14d5d8a50e66",
   "metadata": {
    "vscode": {
     "languageId": "r"
    }
   },
   "outputs": [],
   "source": [
    "datapoints <- datapoints |> mutate(id = as.character(row_number()))"
   ]
  },
  {
   "cell_type": "code",
   "execution_count": null,
   "id": "4d7845ac-1bd9-45b8-81f8-7455d7071336",
   "metadata": {
    "vscode": {
     "languageId": "r"
    }
   },
   "outputs": [],
   "source": [
    "datapoints_c <- datapoints |> mutate(panel = \"C\")"
   ]
  },
  {
   "cell_type": "markdown",
   "id": "9797a056-f1c7-4556-b961-d7f5bf22e7f3",
   "metadata": {},
   "source": [
    "### D (paternal)"
   ]
  },
  {
   "cell_type": "code",
   "execution_count": null,
   "id": "8a5669df-0326-4cb5-9b01-63f2fb055e92",
   "metadata": {
    "vscode": {
     "languageId": "r"
    }
   },
   "outputs": [],
   "source": [
    "d_plot <- ggplot(df_genetic_paternal, aes(x=variant, y=wb5ht_paternal)) + \n",
    " geom_violin(\n",
    "        alpha = 0.5, \n",
    "        aes(fill = variant), \n",
    "        draw_quantiles = c(0.10, 0.25, 0.50, 0.75, 0.90),\n",
    "        scale=\"width\",\n",
    "        adjust=1,\n",
    "        trim=TRUE) +    \n",
    "    geom_point(position = position_jitter(seed = 1, width = 0.2), alpha = 0.5, size = 0.5) +\n",
    "    theme(legend.position = \"none\",\n",
    "          panel.grid.major = element_blank(),\n",
    "          panel.grid.minor = element_blank()) +\n",
    "    labs(\n",
    "        y = \"Paternal WB5-HT (ng/ml)\",\n",
    "        x = \"Proband genetic status\") +\n",
    "    scale_fill_brewer(palette=\"Set1\") +\n",
    "    ylim(YMIN, YMAX)"
   ]
  },
  {
   "cell_type": "code",
   "execution_count": null,
   "id": "10904e18-4112-4518-af8f-67445d851331",
   "metadata": {
    "vscode": {
     "languageId": "r"
    }
   },
   "outputs": [],
   "source": [
    "datapoints <- df_genetic_paternal |> select(id, variant, wb5ht_paternal)"
   ]
  },
  {
   "cell_type": "code",
   "execution_count": null,
   "id": "687a9166-9fc2-464e-a9c8-56af4eecd4a6",
   "metadata": {
    "vscode": {
     "languageId": "r"
    }
   },
   "outputs": [],
   "source": [
    "datapoints <- datapoints |> mutate(id = as.character(row_number()))"
   ]
  },
  {
   "cell_type": "code",
   "execution_count": null,
   "id": "c3bc4c5e-dbd0-4efe-92de-d1040784682c",
   "metadata": {
    "vscode": {
     "languageId": "r"
    }
   },
   "outputs": [],
   "source": [
    "datapoints_d <- datapoints |> mutate(panel = \"D\")"
   ]
  },
  {
   "cell_type": "code",
   "execution_count": null,
   "id": "661e142b-0832-4108-b1e3-8610c014d509",
   "metadata": {
    "vscode": {
     "languageId": "r"
    }
   },
   "outputs": [],
   "source": [
    "datapoints <- bind_rows(datapoints_b, datapoints_c, datapoints_d)"
   ]
  },
  {
   "cell_type": "code",
   "execution_count": null,
   "id": "449f0dcb-9032-4bbf-81cc-b019abb418aa",
   "metadata": {
    "vscode": {
     "languageId": "r"
    }
   },
   "outputs": [],
   "source": [
    "datapoints <- datapoints |> select(id, variant, wb5ht_maternal, wb5ht, wb5ht_paternal, panel)"
   ]
  },
  {
   "cell_type": "code",
   "execution_count": null,
   "id": "92d39a3b-0579-4b10-a2bc-efb3bf8d92f9",
   "metadata": {
    "vscode": {
     "languageId": "r"
    }
   },
   "outputs": [],
   "source": [
    "datapoints <- datapoints |> rename(\n",
    "    variant_status = variant,\n",
    "    wb5ht_proband = wb5ht)"
   ]
  },
  {
   "cell_type": "code",
   "execution_count": null,
   "id": "965489e6-f4d7-4b2c-95c8-d90bce47730c",
   "metadata": {
    "vscode": {
     "languageId": "r"
    }
   },
   "outputs": [],
   "source": [
    "write_csv(datapoints, \"datapoints.csv\")\n"
   ]
  },
  {
   "cell_type": "markdown",
   "id": "ab3b4f07-edd3-4b43-966b-0e6db879f8f3",
   "metadata": {},
   "source": [
    "## Assemble panels"
   ]
  },
  {
   "cell_type": "code",
   "execution_count": null,
   "id": "e2225dfe-1edb-4c11-9029-79e5fbd73f28",
   "metadata": {
    "vscode": {
     "languageId": "r"
    }
   },
   "outputs": [],
   "source": [
    "panels_plot <- a_plot + b_plot + c_plot + d_plot\n",
    "\n",
    "panels_plot <- panels_plot + plot_layout(ncol = 2, nrow = 2)\n",
    "\n",
    "panels_plot <- panels_plot + plot_annotation(tag_levels = 'A')\n",
    "\n",
    "panels_plot\n",
    "\n",
    "ggsave(\"panels.png\", width = 10, height = 10, dpi = 300)"
   ]
  },
  {
   "cell_type": "markdown",
   "id": "472c42ff-ea31-411f-8407-2984122208dc",
   "metadata": {},
   "source": [
    "# Supplement 1"
   ]
  },
  {
   "cell_type": "code",
   "execution_count": null,
   "id": "eb9d46ac-cf3f-462d-9751-226a0174bd45",
   "metadata": {
    "vscode": {
     "languageId": "r"
    }
   },
   "outputs": [],
   "source": [
    "df_genetic_no_outliers_pristine |> nrow()"
   ]
  },
  {
   "cell_type": "code",
   "execution_count": null,
   "id": "1b936083-7356-4b53-82ca-5d6ed7a8f607",
   "metadata": {
    "vscode": {
     "languageId": "r"
    }
   },
   "outputs": [],
   "source": [
    "df_genetic_no_outliers_pristine |> group_by(variant) |> count()"
   ]
  },
  {
   "cell_type": "code",
   "execution_count": null,
   "id": "8c5c3dc8-0380-4149-8509-5eb55b2f763b",
   "metadata": {
    "vscode": {
     "languageId": "r"
    }
   },
   "outputs": [],
   "source": [
    "df_genetic_no_outliers_pristine |> colnames()"
   ]
  },
  {
   "cell_type": "code",
   "execution_count": null,
   "id": "20d0185d-704d-482a-afc0-18a531b9c9c8",
   "metadata": {
    "vscode": {
     "languageId": "r"
    }
   },
   "outputs": [],
   "source": [
    "df_genetic_no_outliers_pristine |> \n",
    "    select(\"id\", \"variant\") |>\n",
    "    write_csv(\"20231220_participants.csv\")"
   ]
  },
  {
   "cell_type": "code",
   "execution_count": null,
   "id": "5201d08c-2c4e-48fa-9705-76abe2055867",
   "metadata": {
    "vscode": {
     "languageId": "r"
    }
   },
   "outputs": [],
   "source": [
    "df_genetic_no_outliers <- df_genetic_no_outliers_pristine"
   ]
  },
  {
   "cell_type": "code",
   "execution_count": null,
   "id": "c202dbda-097a-4014-938a-cfc2bafd9ffd",
   "metadata": {
    "vscode": {
     "languageId": "r"
    }
   },
   "outputs": [],
   "source": [
    "df_1 <- df_genetic_no_outliers |> filter(variant==1)"
   ]
  },
  {
   "cell_type": "code",
   "execution_count": null,
   "id": "ecc31f5d-f0d7-47b3-b03f-2acacde5ae5e",
   "metadata": {
    "vscode": {
     "languageId": "r"
    }
   },
   "outputs": [],
   "source": [
    "df_2 <- df_genetic_no_outliers |> filter(variant==0)"
   ]
  },
  {
   "cell_type": "code",
   "execution_count": null,
   "id": "8322993c-9f70-4331-9f56-2f43e6cd294e",
   "metadata": {
    "vscode": {
     "languageId": "r"
    }
   },
   "outputs": [],
   "source": [
    "densities <- density_1 + density_2\n",
    "\n",
    "densities\n",
    "\n",
    "ggsave(\"densities.png\", width = 10, height = 10, dpi = 300)"
   ]
  },
  {
   "cell_type": "code",
   "execution_count": null,
   "id": "17d22ebe-9949-4d4c-9145-38e5f2920b00",
   "metadata": {
    "vscode": {
     "languageId": "r"
    }
   },
   "outputs": [],
   "source": [
    "shapiro.test(df_1$wb5ht_maternal)"
   ]
  },
  {
   "cell_type": "code",
   "execution_count": null,
   "id": "4403cffc-550d-488e-9c00-d7e542f64b10",
   "metadata": {
    "vscode": {
     "languageId": "r"
    }
   },
   "outputs": [],
   "source": [
    "shapiro.test(df_2$wb5ht_maternal)"
   ]
  },
  {
   "cell_type": "code",
   "execution_count": null,
   "id": "25c32026-5317-4ee4-aa6d-5da4b71b1497",
   "metadata": {
    "vscode": {
     "languageId": "r"
    }
   },
   "outputs": [],
   "source": [
    "skewness(df_1$wb5ht_maternal)"
   ]
  },
  {
   "cell_type": "code",
   "execution_count": null,
   "id": "25501f74-e6d2-45c4-a610-2851793b4d07",
   "metadata": {
    "vscode": {
     "languageId": "r"
    }
   },
   "outputs": [],
   "source": [
    "skewness(df_2$wb5ht_maternal)"
   ]
  },
  {
   "cell_type": "code",
   "execution_count": null,
   "id": "06697957-1cd4-4026-8f7c-b244d76e8c51",
   "metadata": {
    "vscode": {
     "languageId": "r"
    }
   },
   "outputs": [],
   "source": [
    "range(df_1$wb5ht_maternal)"
   ]
  },
  {
   "cell_type": "code",
   "execution_count": null,
   "id": "4aa4da12-ee49-4507-8a7c-164ed1026e76",
   "metadata": {
    "vscode": {
     "languageId": "r"
    }
   },
   "outputs": [],
   "source": [
    "range(df_2$wb5ht_maternal)"
   ]
  },
  {
   "cell_type": "code",
   "execution_count": null,
   "id": "1933126e-6fc9-4db7-8353-5fe0bac7d96d",
   "metadata": {
    "vscode": {
     "languageId": "r"
    }
   },
   "outputs": [],
   "source": [
    "datapoints_3 <- df_1 |> select(id, wb5ht_maternal) |>\n",
    "    mutate(variant_status=\"Rare variant carrier\") |>\n",
    "    mutate(id = as.character(row_number())) |>\n",
    "    select(id, variant_status, wb5ht_maternal)"
   ]
  },
  {
   "cell_type": "code",
   "execution_count": null,
   "id": "15d5b7f5-9ddb-45dc-94a7-b84ab72678fa",
   "metadata": {
    "vscode": {
     "languageId": "r"
    }
   },
   "outputs": [],
   "source": [
    "datapoints_4 <- df_2 |> select(id, wb5ht_maternal) |>\n",
    "    mutate(variant_status=\"Non-carrier\") |>\n",
    "    mutate(id = as.character(row_number())) |>\n",
    "    select(id, variant_status, wb5ht_maternal)"
   ]
  },
  {
   "cell_type": "code",
   "execution_count": null,
   "id": "8b87f436-8c74-47ab-9cfb-62eac95d59c3",
   "metadata": {
    "vscode": {
     "languageId": "r"
    }
   },
   "outputs": [],
   "source": [
    "datapoints_3 <- bind_rows(datapoints_3, datapoints_4)"
   ]
  },
  {
   "cell_type": "code",
   "execution_count": null,
   "id": "62d3e4e0-4904-4b37-8c0e-e83b081c1bdb",
   "metadata": {
    "vscode": {
     "languageId": "r"
    }
   },
   "outputs": [],
   "source": [
    "datapoints_3 |> mutate(id = as.character(row_number()))"
   ]
  },
  {
   "cell_type": "code",
   "execution_count": null,
   "id": "6fbc3142-2ae5-430f-b907-b37185e53f32",
   "metadata": {
    "vscode": {
     "languageId": "r"
    }
   },
   "outputs": [],
   "source": [
    "write_csv(datapoints_3, \"datapoints_3.csv\")"
   ]
  },
  {
   "cell_type": "code",
   "execution_count": null,
   "id": "2610ee35-bf18-4455-8cee-373c73f4de8e",
   "metadata": {
    "vscode": {
     "languageId": "r"
    }
   },
   "outputs": [],
   "source": [
    "# Create density plot\n",
    "ggplot(df_1, aes(x = wb5ht_maternal)) + \n",
    "  geom_density(fill=\"blue\", alpha=0.5) + \n",
    "  labs(title=\"Maternal WB5-HT distribution among rare variant carriers\", x=\"Maternal WB5-HT\", y=\"Density\") +\n",
    "  theme(legend.position = \"none\",\n",
    "          panel.grid.major = element_blank(),\n",
    "          panel.grid.minor = element_blank()) +\n",
    "    xlim(58, 369)"
   ]
  },
  {
   "cell_type": "code",
   "execution_count": null,
   "id": "c7255aa6-5007-4f27-81d0-04ed229edda5",
   "metadata": {
    "vscode": {
     "languageId": "r"
    }
   },
   "outputs": [],
   "source": [
    "ggsave(\"density_1.png\")"
   ]
  },
  {
   "cell_type": "code",
   "execution_count": null,
   "id": "a9cc7d77-c058-44ea-b46a-3949f12e2dcb",
   "metadata": {
    "vscode": {
     "languageId": "r"
    }
   },
   "outputs": [],
   "source": [
    "# Create density plot\n",
    "ggplot(df_2, aes(x = wb5ht_maternal)) + \n",
    "  geom_density(fill=\"red\", alpha=0.5) + \n",
    "  labs(title=\"Maternal WB5-HT distribution among non-carriers\", x=\"Maternal WB5-HT\", y=\"Density\") +\n",
    "  theme(legend.position = \"none\",\n",
    "          panel.grid.major = element_blank(),\n",
    "          panel.grid.minor = element_blank()) +\n",
    "    xlim(58, 369)"
   ]
  },
  {
   "cell_type": "code",
   "execution_count": null,
   "id": "23110022-ac27-440c-b711-6cac4d93ac66",
   "metadata": {
    "vscode": {
     "languageId": "r"
    }
   },
   "outputs": [],
   "source": [
    "ggsave(\"density_2.png\")"
   ]
  },
  {
   "cell_type": "code",
   "execution_count": null,
   "id": "344941d9-a08a-4e2c-b521-a9d285ba6601",
   "metadata": {
    "vscode": {
     "languageId": "r"
    }
   },
   "outputs": [],
   "source": [
    "# Create density plot\n",
    "ggplot(df_1, aes(x = wb5ht_maternal)) + \n",
    "  geom_density(fill=\"blue\", alpha=0.5) + \n",
    "  labs(title=\"Maternal WB5-HT distribution among rare variant carriers\", x=\"Maternal WB5-HT\", y=\"Density\")\n"
   ]
  },
  {
   "cell_type": "code",
   "execution_count": null,
   "id": "00682da0-a134-472a-8846-570f34a3d159",
   "metadata": {
    "vscode": {
     "languageId": "r"
    }
   },
   "outputs": [],
   "source": [
    "data1 <- df_1$wb5ht_maternal\n",
    "data2 <- df_2$wb5ht_maternal\n",
    "\n",
    "set.seed(1)  \n",
    "bootstrap1 <- boot(data1, skewness_function_e1071, R=10000)\n",
    "bootstrap2 <- boot(data2, skewness_function_e1071, R=10000)\n",
    "\n",
    "ci1 <- boot.ci(bootstrap1, type=\"perc\")\n",
    "ci2 <- boot.ci(bootstrap2, type=\"perc\")\n",
    "\n",
    "ci1_lower_bound <- ci1$percent[4]\n",
    "\n",
    "ci1_upper_bound <- ci1$percent[5]\n",
    "ci2_lower_bound <- ci2$percent[4]\n",
    "\n",
    "ci2_upper_bound <- ci2$percent[5]\n",
    "\n",
    "if (ci1_lower_bound < ci2_upper_bound) {\n",
    "  print(\"skewness of data2 > data1.\")\n",
    "} else {\n",
    "  print(\"skewness of data2 not > data1.\")\n",
    "}\n",
    "\n",
    "ci1\n",
    "ci2 "
   ]
  },
  {
   "cell_type": "code",
   "execution_count": null,
   "id": "4388473e-1eeb-4ded-a7d8-1fb0797f9247",
   "metadata": {
    "vscode": {
     "languageId": "r"
    }
   },
   "outputs": [],
   "source": [
    "ci_upper_data2"
   ]
  },
  {
   "cell_type": "code",
   "execution_count": null,
   "id": "1e303fc8-9410-4734-80e8-cd51ac167761",
   "metadata": {
    "vscode": {
     "languageId": "r"
    }
   },
   "outputs": [],
   "source": [
    "ci_lower_data1"
   ]
  },
  {
   "cell_type": "markdown",
   "id": "2e294f38-918e-47c6-b47d-05f3fe0db7d2",
   "metadata": {},
   "source": [
    "## Compare medians"
   ]
  },
  {
   "cell_type": "code",
   "execution_count": null,
   "id": "0de12fc9-4b16-44b7-9703-390c57b1c5eb",
   "metadata": {
    "vscode": {
     "languageId": "r"
    }
   },
   "outputs": [],
   "source": [
    "wilcox.exact(wb5ht_paternal ~ variant, df_genetic_paternal)"
   ]
  },
  {
   "cell_type": "code",
   "execution_count": null,
   "id": "8e8f38fb-226e-46d7-8ad2-53902319aa74",
   "metadata": {
    "vscode": {
     "languageId": "r"
    }
   },
   "outputs": [],
   "source": [
    "wilcox.exact(wb5ht ~ variant, df_genetic_proband_no_outliers)"
   ]
  },
  {
   "cell_type": "code",
   "execution_count": null,
   "id": "2f472fcb-60bc-489d-b16b-76928fc88f4e",
   "metadata": {
    "vscode": {
     "languageId": "r"
    }
   },
   "outputs": [],
   "source": [
    "wilcox.exact(wb5ht_maternal ~ variant, df_genetic_no_outliers)"
   ]
  },
  {
   "cell_type": "code",
   "execution_count": null,
   "id": "0b15c7b6-ff30-485e-8ee3-e81e5f4ef752",
   "metadata": {
    "jupyter": {
     "source_hidden": true
    },
    "tags": [],
    "vscode": {
     "languageId": "r"
    }
   },
   "outputs": [],
   "source": [
    "rare_vs_non_paternal <- qcomhd(wb5ht_paternal ~ variant, df_genetic_paternal)"
   ]
  },
  {
   "cell_type": "markdown",
   "id": "3e5cb6ec-6512-4be2-af65-e609aaad9feb",
   "metadata": {},
   "source": [
    "## Compare across quantiles"
   ]
  },
  {
   "cell_type": "code",
   "execution_count": null,
   "id": "34ea7526-b2ab-43ed-8140-596076e64935",
   "metadata": {
    "vscode": {
     "languageId": "r"
    }
   },
   "outputs": [],
   "source": [
    "set.seed(1)"
   ]
  },
  {
   "cell_type": "code",
   "execution_count": null,
   "id": "949c1270-fa5c-4e64-800d-e4ab3ac7dc7b",
   "metadata": {
    "vscode": {
     "languageId": "r"
    }
   },
   "outputs": [],
   "source": [
    "rare_vs_non_proband <- qcomhd(wb5ht ~ variant, df_genetic_proband_no_outliers)"
   ]
  },
  {
   "cell_type": "code",
   "execution_count": null,
   "id": "0ede2730-7006-4829-afcc-9c7b0b8d9dee",
   "metadata": {
    "vscode": {
     "languageId": "r"
    }
   },
   "outputs": [],
   "source": [
    "rare_vs_non_proband"
   ]
  },
  {
   "cell_type": "code",
   "execution_count": null,
   "id": "74cc5352-6498-4507-be72-984479f25b93",
   "metadata": {
    "vscode": {
     "languageId": "r"
    }
   },
   "outputs": [],
   "source": [
    "rare_vs_non_paternal <- qcomhd(wb5ht_paternal ~ variant, df_genetic_paternal)"
   ]
  },
  {
   "cell_type": "code",
   "execution_count": null,
   "id": "af618904-51cc-46e0-9519-11cff1346912",
   "metadata": {
    "vscode": {
     "languageId": "r"
    }
   },
   "outputs": [],
   "source": [
    "rare_vs_non_paternal"
   ]
  },
  {
   "cell_type": "code",
   "execution_count": null,
   "id": "471ba662-9b35-4294-a499-3ec0e60a7d79",
   "metadata": {
    "vscode": {
     "languageId": "r"
    }
   },
   "outputs": [],
   "source": [
    "rare_vs_non <- qcomhd(wb5ht_maternal ~ variant, df_genetic_no_outliers)"
   ]
  },
  {
   "cell_type": "code",
   "execution_count": null,
   "id": "1efd24db-c2b6-4d5a-ab18-f0fd23ff14da",
   "metadata": {
    "vscode": {
     "languageId": "r"
    }
   },
   "outputs": [],
   "source": [
    "rare_vs_non"
   ]
  },
  {
   "cell_type": "code",
   "execution_count": null,
   "id": "cc6ee520-8238-4094-ba8c-ea393e78628b",
   "metadata": {
    "vscode": {
     "languageId": "r"
    }
   },
   "outputs": [],
   "source": [
    "df_genetic_no_outliers <- df_genetic_no_outliers |> mutate(\n",
    "    condition = \"Mother\")\n",
    "\n",
    "df_genetic_no_outliers$condition <- as_factor(df_genetic_no_outliers$condition)"
   ]
  },
  {
   "cell_type": "code",
   "execution_count": null,
   "id": "7228f20b-0386-4e07-aee0-106c64b7cd0e",
   "metadata": {
    "vscode": {
     "languageId": "r"
    }
   },
   "outputs": [],
   "source": [
    "df_genetic_proband_no_outliers <- df_genetic_proband_no_outliers |> mutate(\n",
    "    condition = \"Proband\")\n",
    "\n",
    "df_genetic_proband_no_outliers$condition <- as_factor(df_genetic_proband_no_outliers$condition)"
   ]
  },
  {
   "cell_type": "code",
   "execution_count": null,
   "id": "b82f0216-a209-4305-a427-a59d2f9ec7b2",
   "metadata": {
    "vscode": {
     "languageId": "r"
    }
   },
   "outputs": [],
   "source": [
    "df_genetic_no_outliers <- df_genetic_no_outliers |> mutate(\n",
    "    sert = wb5ht_maternal)"
   ]
  },
  {
   "cell_type": "code",
   "execution_count": null,
   "id": "7fcd1183-2597-44ec-8406-d99120967aae",
   "metadata": {
    "vscode": {
     "languageId": "r"
    }
   },
   "outputs": [],
   "source": [
    "df_genetic_proband_no_outliers <- df_genetic_proband_no_outliers |> mutate(\n",
    "    sert = wb5ht)"
   ]
  },
  {
   "cell_type": "code",
   "execution_count": null,
   "id": "c73640d0-0e71-43f9-ab43-860eeda5472b",
   "metadata": {
    "vscode": {
     "languageId": "r"
    }
   },
   "outputs": [],
   "source": [
    "combined <- df_genetic_proband_no_outliers |> bind_rows(df_genetic_no_outliers)"
   ]
  },
  {
   "cell_type": "code",
   "execution_count": null,
   "id": "4f4ca730-3818-4c40-abb6-64afd43606f8",
   "metadata": {
    "vscode": {
     "languageId": "r"
    }
   },
   "outputs": [],
   "source": [
    "ggplot(combined, aes(x=condition, y=sert))+ \n",
    "    geom_boxplot(\n",
    "        alpha = 0.5, \n",
    "        aes(fill = condition)) +\n",
    "    theme(legend.position = \"none\",\n",
    "          panel.grid.major = element_blank(),\n",
    "          panel.grid.minor = element_blank()) +\n",
    "    labs(\n",
    "        title = \"Whole blood serotonin in probands vs. mothers\",\n",
    "        y = \"Whole blood serotonin (ng/ml)\",\n",
    "        x = \"Proband or mother\") +\n",
    "    scale_fill_brewer(palette=\"Set1\")"
   ]
  },
  {
   "cell_type": "markdown",
   "id": "16da6e91-50ea-4f99-8ab5-cc97349fd0f0",
   "metadata": {},
   "source": [
    "## Generate tables"
   ]
  },
  {
   "cell_type": "code",
   "execution_count": null,
   "id": "b7fed932-30d4-4dd2-ba2a-a0b1e5c166ad",
   "metadata": {
    "vscode": {
     "languageId": "r"
    }
   },
   "outputs": [],
   "source": [
    "df_genetic_no_outliers <- df_genetic_no_outliers |> mutate(\n",
    "    age_years = age/12)"
   ]
  },
  {
   "cell_type": "code",
   "execution_count": null,
   "id": "8c5daec5-f374-48d3-989d-dfb686e4d1d2",
   "metadata": {
    "vscode": {
     "languageId": "r"
    }
   },
   "outputs": [],
   "source": [
    "df_genetic_no_outliers_age <- df_genetic_no_outliers |> filter(!is.na(age))"
   ]
  },
  {
   "cell_type": "code",
   "execution_count": null,
   "id": "ff9897f0-1338-4cd5-9551-e1ffa03b2042",
   "metadata": {
    "vscode": {
     "languageId": "r"
    }
   },
   "outputs": [],
   "source": [
    "df_table <- df_genetic_no_outliers |> \n",
    "    mutate(race = case_when(\n",
    "        race_white == \"1\" ~ \"white\",\n",
    "        race_black == \"1\" ~ \"african-amer\",\n",
    "        race_asian == \"1\" ~ \"asian\",\n",
    "        race_more_than_one == \"1\" ~ \"more-than-one-race\",\n",
    "        race_not_specified == \"1\" ~ \"not-specified\",\n",
    "    ))\n",
    "\n",
    "df_table$race <- recode_factor(df_table$race, \n",
    "    `african-amer` = \"Black\", \n",
    "    `white` = \"White\",\n",
    "    `asian` = \"Asian\",\n",
    "    `more-than-one-race` = \"More than one race\",\n",
    "    `not-specified` = \"Not specified\")"
   ]
  },
  {
   "cell_type": "code",
   "execution_count": null,
   "id": "e4c862a8-0332-491b-bf09-b17340f9dd8c",
   "metadata": {
    "vscode": {
     "languageId": "r"
    }
   },
   "outputs": [],
   "source": [
    "df_table <- df_table |> \n",
    "    mutate(ethnicity_merged = case_when(\n",
    "        ethnicity == \"non-hispanic\" ~ \"non-hispanic\",\n",
    "        ethnicity == \"hispanic\" ~ \"hispanic\",\n",
    "        ethnicity_latin == \"1\" ~ \"hispanic\",\n",
    "        ethnicity_latin == \"0\" ~ \"non-hispanic\"))\n"
   ]
  },
  {
   "cell_type": "code",
   "execution_count": null,
   "id": "0fdcf244-25b6-4f7f-869a-f35aecee8365",
   "metadata": {
    "vscode": {
     "languageId": "r"
    }
   },
   "outputs": [],
   "source": [
    "df_table$sex <- recode_factor(df_table$sex, \n",
    "    male = \"Male\", \n",
    "    female = \"Female\")"
   ]
  },
  {
   "cell_type": "code",
   "execution_count": null,
   "id": "94199451-d961-4f2b-8bbe-878072949f07",
   "metadata": {
    "vscode": {
     "languageId": "r"
    }
   },
   "outputs": [],
   "source": [
    "df_table$ethnicity_merged <- recode_factor(df_table$ethnicity_merged, \n",
    "    hispanic = \"Latine\", \n",
    "    `non-hispanic` = \"Non-Latine\")"
   ]
  },
  {
   "cell_type": "code",
   "execution_count": null,
   "id": "9d702403-6979-4b86-bd31-e660eef3a3dd",
   "metadata": {
    "vscode": {
     "languageId": "r"
    }
   },
   "outputs": [],
   "source": [
    "df_table$variant <- recode_factor(df_table$variant, \n",
    "    `0` = \"Non-carrier\", \n",
    "    `1` = \"Carrier\")"
   ]
  },
  {
   "cell_type": "code",
   "execution_count": null,
   "id": "addd746c-89f3-40d2-83f8-3a129c4a8a06",
   "metadata": {
    "vscode": {
     "languageId": "r"
    }
   },
   "outputs": [],
   "source": [
    "df_table_freeze <- df_table"
   ]
  },
  {
   "cell_type": "code",
   "execution_count": null,
   "id": "b1c45d9f-aa05-4b40-ae21-6b0b60cfc923",
   "metadata": {
    "vscode": {
     "languageId": "r"
    }
   },
   "outputs": [],
   "source": [
    "df_table <- df_table |> \n",
    "    select(\n",
    "        age_years,\n",
    "        site, \n",
    "        sex,\n",
    "        race,\n",
    "        variant,\n",
    "        ethnicity_merged,\n",
    "        wb5ht,\n",
    "        wb5ht_maternal,\n",
    "        wb5ht_paternal,\n",
    "    ) \n",
    "\n",
    "table1 <- df_table |> tbl_summary(\n",
    "    by = variant,\n",
    "    type = list(\n",
    "        age_years ~ \"continuous\"),\n",
    "    statistic = all_continuous() ~ \"{mean} ({sd})\",\n",
    "    digits = all_continuous() ~ 2,\n",
    "    include = c(\n",
    "        age_years,\n",
    "        site,\n",
    "        sex,\n",
    "        race,\n",
    "        ethnicity_merged),\n",
    "    label = list(\n",
    "        age_years ~ \"Age in years\",\n",
    "        site ~ \"Study site\",\n",
    "        sex ~ \"Sex\",\n",
    "        race ~ \"Race\",\n",
    "        ethnicity_merged ~ \"Ethnicity\"),\n",
    "    missing = \"no\") |>\n",
    "    add_overall(last = FALSE) |>\n",
    "    modify_column_alignment(columns = all_stat_cols(), align = \"right\") |>\n",
    "    modify_spanning_header(\n",
    "        all_stat_cols() ~ \"**Demographic characteristics of study participants by rare variant carrier status**\") |>\n",
    "    add_p(pvalue_fun = ~ style_pvalue(.x, digits = 2)) |>\n",
    "    as_gt() |>\n",
    "    gtsave(here(\"output\",\"table1_gen.html\"))"
   ]
  },
  {
   "cell_type": "code",
   "execution_count": null,
   "id": "30216d6e-2063-426b-9602-070fa402c880",
   "metadata": {
    "vscode": {
     "languageId": "r"
    }
   },
   "outputs": [],
   "source": [
    "table3 <- df_table |> tbl_summary(\n",
    "    by = variant,\n",
    "    type = list(\n",
    "        ados_sa_css ~ \"continuous\",\n",
    "        ados_rrb_css ~ \"continuous\"),\n",
    "    statistic = all_continuous() ~ \"{mean} ({sd})\",\n",
    "    digits = all_continuous() ~ 2,\n",
    "    include = c(\n",
    "        wb5ht,\n",
    "        wb5ht_maternal,\n",
    "        wb5ht_paternal,\n",
    "        ados_sa_css,\n",
    "        ados_rrb_css,\n",
    "        adi_r_soc_a_total,\n",
    "        adi_r_comm_b_non_verbal_total,\n",
    "        adi_r_rrb_c_total,\n",
    "        vineland_ii_composite_standard_score,\n",
    "        ssc_diagnosis_nonverbal_iq),\n",
    "    label = list(\n",
    "        wb5ht ~ \"Proband WB5-HT\",\n",
    "        wb5ht_maternal ~ \"Maternal WB5-HT\",\n",
    "        wb5ht_paternal ~ \"Paternal WB5-HT\",\n",
    "        ados_sa_css ~ \"ADOS SA CSS\",\n",
    "        ados_rrb_css ~ \"ADOS RRB CSS\",\n",
    "        adi_r_soc_a_total ~ \"ADI-R domain A\",\n",
    "        adi_r_comm_b_non_verbal_total ~ \"ADI-R domain B\",\n",
    "        adi_r_rrb_c_total ~ \"ADI-R domain C\",\n",
    "        vineland_ii_composite_standard_score ~ \"VABS-II composite\",\n",
    "        ssc_diagnosis_nonverbal_iq ~ \"Nonverbal IQ\"),\n",
    "    missing = \"no\") |>\n",
    "    add_overall(last = TRUE) |>\n",
    "    modify_column_alignment(columns = all_stat_cols(), align = \"right\") |>\n",
    "    modify_header(\n",
    "        label = '**Measure**') |>\n",
    "    modify_spanning_header(\n",
    "        all_stat_cols() ~ \"**WB5-HT levels and behavioral measure scores of study participants by rare variant carrier status**\") |>\n",
    "    add_p(pvalue_fun = ~ style_pvalue(.x, digits = 2)) |>\n",
    "    as_gt() |>\n",
    "    gtsave(here(\"output\",\"table3.html\"))"
   ]
  },
  {
   "cell_type": "code",
   "execution_count": null,
   "id": "540d95f3-20e2-4bdb-8981-ecae166eee76",
   "metadata": {
    "vscode": {
     "languageId": "r"
    }
   },
   "outputs": [],
   "source": [
    "table3 <- table_df |> tbl_summary(\n",
    "    by = variant,\n",
    "    type = list(\n",
    "        ados_sa_css ~ \"continuous\",\n",
    "        ados_rrb_css ~ \"continuous\"),\n",
    "    statistic = all_continuous() ~ \"{mean} ({sd})\",\n",
    "    digits = all_continuous() ~ 2,\n",
    "    include = c(\n",
    "        wb5ht,\n",
    "        wb5ht_maternal,\n",
    "        wb5ht_paternal,\n",
    "        ados_sa_css,\n",
    "        ados_rrb_css,\n",
    "        adi_r_soc_a_total,\n",
    "        adi_r_comm_b_non_verbal_total,\n",
    "        adi_r_rrb_c_total,\n",
    "        vineland_ii_composite_standard_score,\n",
    "        ssc_diagnosis_nonverbal_iq),\n",
    "    label = list(\n",
    "        wb5ht ~ \"Proband WB5-HT\",\n",
    "        wb5ht_maternal ~ \"Maternal WB5-HT\",\n",
    "        wb5ht_paternal ~ \"Paternal WB5-HT\",\n",
    "        ados_sa_css ~ \"ADOS SA CSS\",\n",
    "        ados_rrb_css ~ \"ADOS RRB CSS\",\n",
    "        adi_r_soc_a_total ~ \"ADI-R domain A\",\n",
    "        adi_r_comm_b_non_verbal_total ~ \"ADI-R domain B\",\n",
    "        adi_r_rrb_c_total ~ \"ADI-R domain C\",\n",
    "        vineland_ii_composite_standard_score ~ \"VABS-II composite\",\n",
    "        ssc_diagnosis_nonverbal_iq ~ \"Nonverbal IQ\"),\n",
    "    missing = \"no\") |>\n",
    "    add_overall(last = TRUE) |>\n",
    "    modify_column_alignment(columns = all_stat_cols(), align = \"right\") |>\n",
    "    modify_header(\n",
    "        label = '**Measure**') |>\n",
    "    modify_spanning_header(\n",
    "        all_stat_cols() ~ \"**WB5-HT levels and behavioral measure scores of study participants by variant carrier status**\") |>\n",
    "    add_p(pvalue_fun = ~ style_pvalue(.x, digits = 2)) |>\n",
    "    as_gt() |>\n",
    "    gtsave(here(\"output\",\"table_gen.html\"))"
   ]
  },
  {
   "cell_type": "code",
   "execution_count": null,
   "id": "a59ac4cc-9a33-4d0d-af22-1d257eb4da8c",
   "metadata": {
    "vscode": {
     "languageId": "r"
    }
   },
   "outputs": [],
   "source": [
    "ggplot(df_genetic_no_outliers_age, aes(x=variant, y=wb5ht_maternal))+ \n",
    "    geom_violin(\n",
    "        alpha = 0.5, \n",
    "        aes(color = variant, fill = variant),\n",
    "        scale = \"area\") +\n",
    "    geom_violin(\n",
    "        alpha = 0, \n",
    "        aes(),\n",
    "        draw_quantiles = c(0.2, 0.4, 0.6, 0.8),\n",
    "        scale = \"area\") +\n",
    "    geom_point(position = position_jitter(seed = 1, width = 0.2), alpha = 0.5) +\n",
    "    theme(legend.position = \"none\",\n",
    "          panel.grid.major = element_blank(),\n",
    "          panel.grid.minor = element_blank()) +\n",
    "    labs(\n",
    "        title = \"Maternal whole blood serotonin by genetic status\",\n",
    "        y = \"Whole blood serotonin (ng/ml)\",\n",
    "        x = \"Offspring genetic status\") +\n",
    "    scale_fill_brewer(palette=\"Set1\")"
   ]
  },
  {
   "cell_type": "code",
   "execution_count": null,
   "id": "b486da0d-2b42-42a0-a22d-2e5c0cb94ffa",
   "metadata": {
    "vscode": {
     "languageId": "r"
    }
   },
   "outputs": [],
   "source": [
    "ggplot(df_genetic_no_outliers_age, aes(x=variant, y=wb5ht_paternal)) + \n",
    "    geom_boxplot(\n",
    "        alpha = 0.5, \n",
    "        aes(fill = variant)) +\n",
    "    geom_point(position = position_jitter(seed = 1, width = 0.2), alpha = 0.5) +\n",
    "    theme(legend.position = \"none\",\n",
    "          panel.grid.major = element_blank(),\n",
    "          panel.grid.minor = element_blank()) +\n",
    "    labs(\n",
    "        title = \"Paternal whole blood serotonin by offspring genetic status\",\n",
    "        y = \"Whole blood serotonin (ng/ml)\",\n",
    "        x = \"Offspring genetic status\") +\n",
    "    scale_fill_brewer(palette=\"Set1\")\n"
   ]
  },
  {
   "cell_type": "code",
   "execution_count": null,
   "id": "56d5399a-9f51-43d9-896e-cde963179a28",
   "metadata": {
    "vscode": {
     "languageId": "r"
    }
   },
   "outputs": [],
   "source": [
    "ggplot(df_genetic_no_outliers, aes(x=variant, y=wb5ht_maternal)) + \n",
    "    geom_boxplot(\n",
    "        alpha = 0.5, \n",
    "        aes(fill = variant)) +\n",
    "    geom_point(position = position_jitter(seed = 1, width = 0.2), alpha = 0.5) +\n",
    "    theme(legend.position = \"none\",\n",
    "          panel.grid.major = element_blank(),\n",
    "          panel.grid.minor = element_blank()) +\n",
    "    labs(\n",
    "        title = \"Maternal whole blood serotonin by offspring genetic status\",\n",
    "        y = \"Whole blood serotonin (ng/ml)\",\n",
    "        x = \"Offspring genetic status\") +\n",
    "    scale_fill_brewer(palette=\"Set1\")\n"
   ]
  },
  {
   "cell_type": "code",
   "execution_count": null,
   "id": "43a9fd70-3dd1-4442-a412-8554c8c17733",
   "metadata": {
    "vscode": {
     "languageId": "r"
    }
   },
   "outputs": [],
   "source": [
    "df_genetic_no_outliers_age <- df_genetic_no_outliers_age |> mutate(wb5ht_paternal_transformed = log10(wb5ht_paternal))"
   ]
  },
  {
   "cell_type": "code",
   "execution_count": null,
   "id": "1061f0f1-436e-42c2-9376-266d8cfa4675",
   "metadata": {
    "vscode": {
     "languageId": "r"
    }
   },
   "outputs": [],
   "source": [
    "table_df <- df_genetic_no_outliers_age |> \n",
    "    select(\n",
    "        age_years,\n",
    "        variant,\n",
    "        site, \n",
    "        sex,\n",
    "        race,\n",
    "        ethnicity,\n",
    "        wb5ht,\n",
    "        wb5ht_maternal,\n",
    "        wb5ht_paternal,\n",
    "        ados_sa_css,\n",
    "        ados_rrb_css,\n",
    "        adi_r_soc_a_total,\n",
    "        adi_r_comm_b_non_verbal_total,\n",
    "        adi_r_rrb_c_total,\n",
    "        vineland_ii_composite_standard_score,\n",
    "        ssc_diagnosis_nonverbal_iq\n",
    "    ) \n",
    "\n",
    "table_df$race <- recode_factor(table_df$race, \n",
    "    `african-amer` = \"Black\", \n",
    "    white = \"White\",\n",
    "    asian = \"Asian\",\n",
    "    `more-than-one-race` = \"More than one race\",\n",
    "    `not-specified` = \"Not specified\")\n",
    "\n",
    "table_df$sex <- recode_factor(table_df$sex, \n",
    "    male = \"Male\", \n",
    "    female = \"Female\")\n",
    "\n",
    "table_df$ethnicity <- recode_factor(table_df$ethnicity, \n",
    "    hispanic = \"Latino/Latina\", \n",
    "    `non-hispanic` = \"Non-Latino/Latina\")\n",
    "\n",
    "table1 <- table_df |> tbl_summary(\n",
    "    by = variant,\n",
    "    type = list(\n",
    "        age_years ~ \"continuous\"),\n",
    "    statistic = all_continuous() ~ \"{mean} ({sd})\",\n",
    "    digits = all_continuous() ~ 2,\n",
    "    include = c(\n",
    "        age_years,\n",
    "        site,\n",
    "        sex,\n",
    "        race,\n",
    "        ethnicity),\n",
    "    label = list(\n",
    "        age_years ~ \"Age in years\",\n",
    "        site ~ \"Study site\",\n",
    "        sex ~ \"Sex\",\n",
    "        race ~ \"Race\",\n",
    "        ethnicity ~ \"Ethnicity\"),\n",
    "    missing = \"no\") |>\n",
    "    add_overall(last = FALSE) |>\n",
    "    modify_column_alignment(columns = all_stat_cols(), align = \"right\") |>\n",
    "    modify_spanning_header(\n",
    "        all_stat_cols() ~ \"**Demographic characteristics of study participants by rare variant carrier status**\") |>\n",
    "    add_p(pvalue_fun = ~ style_pvalue(.x, digits = 2)) |>\n",
    "    as_gt() |>\n",
    "    gtsave(here(\"output\",\"table1.html\"))"
   ]
  },
  {
   "cell_type": "code",
   "execution_count": null,
   "id": "903613df-3674-47ab-852a-39c30b95e28f",
   "metadata": {
    "vscode": {
     "languageId": "r"
    }
   },
   "outputs": [],
   "source": [
    "df_genetic$variant <- as_factor(df_genetic$variant)"
   ]
  },
  {
   "cell_type": "code",
   "execution_count": null,
   "id": "77d4ee31-e163-45f8-ac50-72b3211c074e",
   "metadata": {
    "vscode": {
     "languageId": "r"
    }
   },
   "outputs": [],
   "source": [
    "ggplot(df_genetic, aes(x=variant, y=wb5ht))+ \n",
    "    geom_violin(\n",
    "        alpha = 0.5, \n",
    "        aes(color = variant, fill = variant),\n",
    "        scale = \"area\") +\n",
    "    geom_violin(\n",
    "        alpha = 0, \n",
    "        aes(),\n",
    "        draw_quantiles = c(0.2, 0.4, 0.6, 0.8),\n",
    "        scale = \"area\") +\n",
    "    geom_point(position = position_jitter(seed = 1, width = 0.2), alpha = 0.5) +\n",
    "    theme(legend.position = \"none\",\n",
    "          panel.grid.major = element_blank(),\n",
    "          panel.grid.minor = element_blank()) +\n",
    "    labs(\n",
    "        title = \"Maternal whole blood serotonin by genetic status\",\n",
    "        y = \"Whole blood serotonin (ng/ml)\",\n",
    "        x = \"Offspring genetic status\") +\n",
    "    scale_fill_brewer(palette=\"Set1\")"
   ]
  },
  {
   "cell_type": "code",
   "execution_count": null,
   "id": "658163ae-03ec-4a5c-82f9-f427f64f7e07",
   "metadata": {
    "vscode": {
     "languageId": "r"
    }
   },
   "outputs": [],
   "source": [
    "ggplot(df_genetic, aes(x=variant, y=wb5ht_maternal))+ \n",
    "    geom_violin(\n",
    "        alpha = 0.5, \n",
    "        aes(color = variant, fill = variant),\n",
    "        scale = \"area\") +\n",
    "    geom_violin(\n",
    "        alpha = 0, \n",
    "        aes(),\n",
    "        draw_quantiles = c(0.2, 0.4, 0.6, 0.8),\n",
    "        scale = \"area\") +\n",
    "    geom_point(position = position_jitter(seed = 1, width = 0.2), alpha = 0.5) +\n",
    "    theme(legend.position = \"none\",\n",
    "          panel.grid.major = element_blank(),\n",
    "          panel.grid.minor = element_blank()) +\n",
    "    labs(\n",
    "        title = \"Maternal whole blood serotonin by genetic status\",\n",
    "        y = \"Whole blood serotonin (ng/ml)\",\n",
    "        x = \"Offspring genetic status\") +\n",
    "    scale_fill_brewer(palette=\"Set1\")"
   ]
  },
  {
   "cell_type": "code",
   "execution_count": null,
   "id": "5f723932-b5b8-4826-bd6c-c706a092164a",
   "metadata": {
    "vscode": {
     "languageId": "r"
    }
   },
   "outputs": [],
   "source": [
    "mat_variant_vs_non <- qcomhd(wb5ht_maternal ~ variant, df_genetic_no_outliers)"
   ]
  },
  {
   "cell_type": "code",
   "execution_count": null,
   "id": "5387f658-72d6-4bd8-a21b-e67fd43cf540",
   "metadata": {
    "vscode": {
     "languageId": "r"
    }
   },
   "outputs": [],
   "source": [
    "pat_variant_vs_non <- qcomhd(wb5ht_paternal ~ variant, df_genetic_no_outliers)"
   ]
  },
  {
   "cell_type": "code",
   "execution_count": null,
   "id": "a3346c06-fc47-4471-a477-c2e4b6a9d8f2",
   "metadata": {
    "vscode": {
     "languageId": "r"
    }
   },
   "outputs": [],
   "source": [
    "pro_variant_vs_non <- qcomhd(wb5ht ~ variant, df_genetic_no_outliers)"
   ]
  },
  {
   "cell_type": "code",
   "execution_count": null,
   "id": "67337e45-8325-4e06-a023-1b5730791f7c",
   "metadata": {
    "vscode": {
     "languageId": "r"
    }
   },
   "outputs": [],
   "source": [
    "mat_variant_vs_non"
   ]
  },
  {
   "cell_type": "code",
   "execution_count": null,
   "id": "b37fd3d0-f9e2-401c-b65f-2bde1d6193c0",
   "metadata": {
    "vscode": {
     "languageId": "r"
    }
   },
   "outputs": [],
   "source": [
    "mat_rare_vs_non_table <- mat_variant_vs_non$partable |>\n",
    "    select(-c(p.crit)) |>\n",
    "    gt() |>\n",
    "    tab_header(\n",
    "        title = \"Maternal WB5-HT by quantile for those probands with a rare variant vs. those without\") |>\n",
    "    cols_label(\n",
    "        q = \"QU\",\n",
    "        n1 = md(\"*N* (no variant)\"),\n",
    "        n2 = md(\"*N* (variant)\"),\n",
    "        est1 = \"Median (no variant)\",\n",
    "        est2 = \"Median (variant)\",\n",
    "        \"est1-est.2\" = \"Difference\",\n",
    "        ci.low = \"CI Lower\",\n",
    "        ci.up = \"CI Upper\",\n",
    "        p.value = md(\"*Adj. p*\")) |>\n",
    "    fmt_number(\n",
    "        columns = 4:8,\n",
    "        decimals = 2) |>\n",
    "    fmt_number(\n",
    "        columns = 9,\n",
    "        decimals = 3) |>\n",
    "    cols_align(\n",
    "        align = \"right\",\n",
    "        columns = everything()) |>\n",
    "    tab_style(\n",
    "        style = cell_text(weight = \"bold\"),\n",
    "        locations = cells_body(\n",
    "            rows = p.value < 0.05))"
   ]
  },
  {
   "cell_type": "code",
   "execution_count": null,
   "id": "e7bafcf1-6ce4-49d4-b21d-a3a83bb75b50",
   "metadata": {
    "vscode": {
     "languageId": "r"
    }
   },
   "outputs": [],
   "source": [
    "rare_vs_non_proband <- qcomhd(wb5ht ~ variant, df_genetic_proband_no_outliers)"
   ]
  },
  {
   "cell_type": "code",
   "execution_count": null,
   "id": "436eb968-51cd-4829-b835-f044945cfa66",
   "metadata": {
    "vscode": {
     "languageId": "r"
    }
   },
   "outputs": [],
   "source": [
    "pat_rare_vs_non_table <- pat_variant_vs_non$partable |>\n",
    "    select(-c(p.crit)) |>\n",
    "    gt() |>\n",
    "    tab_header(\n",
    "        title = \"Paternal WB5-HT by quantile for those probands with a rare variant vs. those without\") |>\n",
    "    cols_label(\n",
    "        q = \"QU\",\n",
    "        n1 = md(\"*N* (no variant)\"),\n",
    "        n2 = md(\"*N* (variant)\"),\n",
    "        est1 = \"Median (no variant)\",\n",
    "        est2 = \"Median (variant)\",\n",
    "        \"est1-est.2\" = \"Difference\",\n",
    "        ci.low = \"CI Lower\",\n",
    "        ci.up = \"CI Upper\",\n",
    "        p.value = md(\"*Adj. p*\")) |>\n",
    "    fmt_number(\n",
    "        columns = 4:8,\n",
    "        decimals = 2) |>\n",
    "    fmt_number(\n",
    "        columns = 9,\n",
    "        decimals = 3) |>\n",
    "    cols_align(\n",
    "        align = \"right\",\n",
    "        columns = everything()) |>\n",
    "    tab_style(\n",
    "        style = cell_text(weight = \"bold\"),\n",
    "        locations = cells_body(\n",
    "            rows = p.value < 0.05))"
   ]
  },
  {
   "cell_type": "code",
   "execution_count": null,
   "id": "c947e070-f85f-4535-9b5a-1e213c59c5fb",
   "metadata": {
    "vscode": {
     "languageId": "r"
    }
   },
   "outputs": [],
   "source": [
    "pro_rare_vs_non_table <- rare_vs_non_proband$partable |>\n",
    "    select(-c(p.crit)) |>\n",
    "    gt() |>\n",
    "    tab_header(\n",
    "        title = \"Proband WB5-HT by quantile for those probands with a rare variant vs. those without\") |>\n",
    "    cols_label(\n",
    "        q = \"QU\",\n",
    "        n1 = md(\"*N* (no variant)\"),\n",
    "        n2 = md(\"*N* (variant)\"),\n",
    "        est1 = \"Median (no variant)\",\n",
    "        est2 = \"Median (variant)\",\n",
    "        \"est1-est.2\" = \"Difference\",\n",
    "        ci.low = \"CI Lower\",\n",
    "        ci.up = \"CI Upper\",\n",
    "        p.value = md(\"*Adj. p*\")) |>\n",
    "    fmt_number(\n",
    "        columns = 4:8,\n",
    "        decimals = 2) |>\n",
    "    fmt_number(\n",
    "        columns = 9,\n",
    "        decimals = 3) |>\n",
    "    cols_align(\n",
    "        align = \"right\",\n",
    "        columns = everything()) |>\n",
    "    tab_style(\n",
    "        style = cell_text(weight = \"bold\"),\n",
    "        locations = cells_body(\n",
    "            rows = p.value < 0.05))"
   ]
  },
  {
   "cell_type": "code",
   "execution_count": null,
   "id": "c26b2652-518c-4203-a4a0-21da82b94f0a",
   "metadata": {
    "vscode": {
     "languageId": "r"
    }
   },
   "outputs": [],
   "source": [
    "pro_rare_vs_non_table  |> \n",
    "    gtsave(here(\"output\",\"pro_rare_vs_non_quantile_2.html\"))"
   ]
  },
  {
   "cell_type": "code",
   "execution_count": null,
   "id": "fc8d7438-89cf-449a-90c9-aee91fc0653a",
   "metadata": {
    "vscode": {
     "languageId": "r"
    }
   },
   "outputs": [],
   "source": [
    "pat_rare_vs_non_table  |> \n",
    "    gtsave(here(\"output\",\"pat_rare_vs_non_quantile.html\"))"
   ]
  },
  {
   "cell_type": "code",
   "execution_count": null,
   "id": "7ee0db00-7faa-4dc1-b2da-ba92fff64a0f",
   "metadata": {
    "vscode": {
     "languageId": "r"
    }
   },
   "outputs": [],
   "source": [
    "mat_rare_vs_non_table  |> \n",
    "    gtsave(here(\"output\",\"mat_rare_vs_non_quantile.html\"))"
   ]
  },
  {
   "cell_type": "code",
   "execution_count": null,
   "id": "008017ad-ba3b-4daa-8dd1-0efab4e9843d",
   "metadata": {
    "vscode": {
     "languageId": "r"
    }
   },
   "outputs": [],
   "source": [
    "wilcox.exact(wb5ht_maternal ~ variant, df_genetic_no_outliers_age)"
   ]
  },
  {
   "cell_type": "code",
   "execution_count": null,
   "id": "ff0bcb47-23f6-48ed-a502-826ef897f3ce",
   "metadata": {
    "vscode": {
     "languageId": "r"
    }
   },
   "outputs": [],
   "source": [
    "wilcox.exact(wb5ht_maternal ~ variant, df_genetic_no_outliers)"
   ]
  },
  {
   "cell_type": "code",
   "execution_count": null,
   "id": "d9f3a072-30c9-4c06-8f06-2050066b226e",
   "metadata": {
    "vscode": {
     "languageId": "r"
    }
   },
   "outputs": [],
   "source": [
    "wilcox.exact(wb5ht_maternal ~ variant, df)"
   ]
  },
  {
   "cell_type": "code",
   "execution_count": null,
   "id": "53ed8b6f-f149-4d2d-8d85-56f03bc55000",
   "metadata": {
    "vscode": {
     "languageId": "r"
    }
   },
   "outputs": [],
   "source": [
    "variant_vs_non <- qcomhd(wb5ht_maternal ~ variant, df_genetic_no_outliers_age)"
   ]
  },
  {
   "cell_type": "code",
   "execution_count": null,
   "id": "fed84ffa-a145-4014-ae70-50f6cda0f3e9",
   "metadata": {
    "vscode": {
     "languageId": "r"
    }
   },
   "outputs": [],
   "source": [
    "variant_vs_non"
   ]
  },
  {
   "cell_type": "code",
   "execution_count": null,
   "id": "8bac8dde-150d-4b04-8518-09b2b164d833",
   "metadata": {
    "vscode": {
     "languageId": "r"
    }
   },
   "outputs": [],
   "source": [
    "variant_vs_non <- qcomhd(wb5ht_maternal ~ variant, df_genetic)"
   ]
  },
  {
   "cell_type": "code",
   "execution_count": null,
   "id": "fa6af2a4-5624-4140-9f38-a0234afbf17b",
   "metadata": {
    "vscode": {
     "languageId": "r"
    }
   },
   "outputs": [],
   "source": [
    "variant_vs_non"
   ]
  },
  {
   "cell_type": "code",
   "execution_count": null,
   "id": "71453fc5-1f18-41eb-9ff2-6efc8da164bc",
   "metadata": {
    "vscode": {
     "languageId": "r"
    }
   },
   "outputs": [],
   "source": [
    "variant_vs_non <- qcomhd(wb5ht_maternal ~ variant, df_genetic_no_outliers)"
   ]
  },
  {
   "cell_type": "code",
   "execution_count": null,
   "id": "fa94fffa-1d1d-4cdb-9aab-7f96b4026c23",
   "metadata": {
    "vscode": {
     "languageId": "r"
    }
   },
   "outputs": [],
   "source": [
    "variant_vs_non"
   ]
  },
  {
   "cell_type": "code",
   "execution_count": null,
   "id": "77b90fec-c787-430c-a0ed-026bc06345a5",
   "metadata": {
    "vscode": {
     "languageId": "r"
    }
   },
   "outputs": [],
   "source": [
    "model <- lm(\n",
    "    ados_sa_css ~ \n",
    "        wb5ht_maternal + \n",
    "        site +\n",
    "        sex +\n",
    "        race_white +\n",
    "        race_black +\n",
    "        race_asian +\n",
    "        ethnicity_latin,\n",
    "    data = df_core)\n",
    "\n",
    "summary(model)\n",
    "tidy(model, conf.int=TRUE)"
   ]
  },
  {
   "cell_type": "code",
   "execution_count": null,
   "id": "226fa24e-f93b-495f-894d-0c4dc8278d5c",
   "metadata": {
    "vscode": {
     "languageId": "r"
    }
   },
   "outputs": [],
   "source": [
    "model <- glm(wb5ht ~ variant, df_probands_5ht_no_outliers)\n",
    "\n",
    "mylogit <- glm(admit ~ gre + gpa + rank, data = mydata, family = \"binomial\")\n"
   ]
  },
  {
   "cell_type": "markdown",
   "id": "356e6aef-ee6c-44fc-868e-d36f144ac795",
   "metadata": {},
   "source": [
    "# Polygenic score analyses"
   ]
  },
  {
   "cell_type": "code",
   "execution_count": null,
   "id": "1be1142d-3117-48be-ae11-bfbcf142c751",
   "metadata": {
    "vscode": {
     "languageId": "r"
    }
   },
   "outputs": [],
   "source": [
    "df_genetic_no_outliers |> filter(site==\"UIC\" & !is.na(sex)) |> nrow()"
   ]
  },
  {
   "cell_type": "code",
   "execution_count": null,
   "id": "11555608-8065-4f3f-bb18-c566de24e4d0",
   "metadata": {
    "vscode": {
     "languageId": "r"
    }
   },
   "outputs": [],
   "source": [
    "df_pgs_score <- df_pgs |> select(id, SCORE, PC1, PC2, PC3, PC4, PC5, PC6, PC7, PC8, PC9, PC10)"
   ]
  },
  {
   "cell_type": "code",
   "execution_count": null,
   "id": "bb404d10-250a-483d-952c-63521760561a",
   "metadata": {
    "vscode": {
     "languageId": "r"
    }
   },
   "outputs": [],
   "source": [
    "df_genetic_pgs <- df_genetic_no_outliers |> left_join(df_pgs_score, by = \"id\")"
   ]
  },
  {
   "cell_type": "code",
   "execution_count": null,
   "id": "7afe84d6-d9aa-4753-a0d3-a02c4eb3e854",
   "metadata": {
    "vscode": {
     "languageId": "r"
    }
   },
   "outputs": [],
   "source": [
    "df_genetic_pgs |> filter(!is.na(SCORE)) |> nrow()"
   ]
  },
  {
   "cell_type": "code",
   "execution_count": null,
   "id": "f3fef233-20bc-4d3e-82cf-b257d0656681",
   "metadata": {
    "vscode": {
     "languageId": "r"
    }
   },
   "outputs": [],
   "source": [
    "df_genetic_pgs <- df_genetic_pgs |> mutate(score_rescaled = rescale(SCORE))"
   ]
  },
  {
   "cell_type": "code",
   "execution_count": null,
   "id": "d5b182e1-7611-4335-b530-6f3bddd57367",
   "metadata": {
    "vscode": {
     "languageId": "r"
    }
   },
   "outputs": [],
   "source": [
    "hist(df_genetic_pgs$SCORE, na.rm = TRUE)"
   ]
  },
  {
   "cell_type": "code",
   "execution_count": null,
   "id": "1de28613-060e-4db5-b20d-c24581fb02ea",
   "metadata": {
    "vscode": {
     "languageId": "r"
    }
   },
   "outputs": [],
   "source": [
    "hist(df_core_pgs$score_rescaled, na.rm = TRUE)"
   ]
  },
  {
   "cell_type": "code",
   "execution_count": null,
   "id": "97e411c3-a5d0-4fa7-9604-2bd2d5ec9c1c",
   "metadata": {
    "vscode": {
     "languageId": "r"
    }
   },
   "outputs": [],
   "source": [
    "ggplot(df_core_pgs, aes(x=wb5ht_maternal_transformed, y=SCORE)) + geom_point()"
   ]
  },
  {
   "cell_type": "code",
   "execution_count": null,
   "id": "75e74f49-9f84-437b-9c4e-ada7c0819014",
   "metadata": {
    "vscode": {
     "languageId": "r"
    }
   },
   "outputs": [],
   "source": [
    "ggplot(df_core_pgs, aes(x=wb5ht_transformed, y=SCORE)) + geom_point()"
   ]
  },
  {
   "cell_type": "code",
   "execution_count": null,
   "id": "bb1ad685-0114-46f4-a676-0e45a76519b3",
   "metadata": {
    "vscode": {
     "languageId": "r"
    }
   },
   "outputs": [],
   "source": [
    "ggplot(data=df_genetic_pgs, aes(x=wb5ht_maternal_transformed, y=SCORE)) +\n",
    "    geom_point() +\n",
    "    labs(\n",
    "        title = \"Log-transformed maternal WB5-HT vs. autism polygenic score\",\n",
    "        y = \"Autism polygenic score\",\n",
    "        x = \"Log-transformed maternal WB5-HT\")"
   ]
  },
  {
   "cell_type": "code",
   "execution_count": null,
   "id": "ebf0238e-0a60-48ea-9424-fa080af5f5b7",
   "metadata": {
    "vscode": {
     "languageId": "r"
    }
   },
   "outputs": [],
   "source": [
    "ggsave(\"wb5ht_vs_pgs.png\")"
   ]
  },
  {
   "cell_type": "code",
   "execution_count": null,
   "id": "17e29339-6430-4e1b-adf3-a21c212206b2",
   "metadata": {
    "vscode": {
     "languageId": "r"
    }
   },
   "outputs": [],
   "source": [
    "model <- lm(wb5ht_maternal_transformed ~\n",
    "        SCORE,\n",
    "        data = df_genetic_pgs)\n",
    "\n",
    "summary(model)\n",
    "tidy(model, conf.int=TRUE)"
   ]
  },
  {
   "cell_type": "code",
   "execution_count": null,
   "id": "abd2526e-0acc-489d-840f-7138489c4f8e",
   "metadata": {
    "vscode": {
     "languageId": "r"
    }
   },
   "outputs": [],
   "source": [
    "model <- lm(wb5ht_transformed ~\n",
    "        score_rescaled,\n",
    "        data = df_core_pgs)\n",
    "\n",
    "summary(model)\n",
    "tidy(model, conf.int=TRUE)"
   ]
  },
  {
   "cell_type": "code",
   "execution_count": null,
   "id": "111037cf-5c44-4e0a-98e5-086a7faad6ea",
   "metadata": {
    "vscode": {
     "languageId": "r"
    }
   },
   "outputs": [],
   "source": [
    "model <- lm(wb5ht_maternal_transformed ~\n",
    "        score_rescaled,\n",
    "        data = df_core_pgs)\n",
    "\n",
    "summary(model)\n",
    "tidy(model, conf.int=TRUE)"
   ]
  },
  {
   "cell_type": "code",
   "execution_count": null,
   "id": "7d0b543f-5ea8-424b-8aa3-72aacba8c15b",
   "metadata": {
    "vscode": {
     "languageId": "r"
    }
   },
   "outputs": [],
   "source": [
    "model <- lm(wb5ht_maternal_transformed ~\n",
    "        score_rescaled + \n",
    "        site, \n",
    "        data = df_core_pgs)\n",
    "\n",
    "summary(model)\n",
    "tidy(model, conf.int=TRUE)"
   ]
  },
  {
   "cell_type": "code",
   "execution_count": null,
   "id": "99a303ab-3d63-417d-84d1-83444ff50c60",
   "metadata": {
    "vscode": {
     "languageId": "r"
    }
   },
   "outputs": [],
   "source": [
    "model <- lm(wb5ht_transformed ~\n",
    "        score_rescaled + \n",
    "        site +\n",
    "        sex, \n",
    "        data = df_core_pgs)\n",
    "\n",
    "summary(model)\n",
    "tidy(model, conf.int=TRUE)"
   ]
  },
  {
   "cell_type": "code",
   "execution_count": null,
   "id": "cb577182-4627-4635-b655-0b246c94aa01",
   "metadata": {
    "vscode": {
     "languageId": "r"
    }
   },
   "outputs": [],
   "source": [
    "model <- lm(wb5ht_maternal_transformed ~\n",
    "        score_rescaled + \n",
    "        site +\n",
    "        sex, \n",
    "        data = df_core_pgs)\n",
    "\n",
    "summary(model)\n",
    "tidy(model, conf.int=TRUE)"
   ]
  },
  {
   "cell_type": "code",
   "execution_count": null,
   "id": "03afad3d-82bf-49ef-b3c3-1654e53ab624",
   "metadata": {
    "vscode": {
     "languageId": "r"
    }
   },
   "outputs": [],
   "source": [
    "range(df_core_pgs$SCORE, na.rm = TRUE)"
   ]
  },
  {
   "cell_type": "code",
   "execution_count": null,
   "id": "1eb616eb-63dd-4883-a71e-4d149b8a62cd",
   "metadata": {
    "vscode": {
     "languageId": "r"
    }
   },
   "outputs": [],
   "source": [
    "rq_fit <- rq(\n",
    "    wb5ht_paternal ~ score_rescaled, \n",
    "    data = df_core_pgs, \n",
    "    tau = QUANTILES)\n",
    "\n",
    "fit_coefficients <- summary(rq_fit, se=\"ker\")\n",
    "fit_coefficients\n"
   ]
  },
  {
   "cell_type": "code",
   "execution_count": null,
   "id": "2baca654-c32d-4ca4-9a06-a9f4550e636b",
   "metadata": {
    "vscode": {
     "languageId": "r"
    }
   },
   "outputs": [],
   "source": [
    "rq_fit <- rq(\n",
    "    wb5ht_maternal ~ SCORE, \n",
    "    data = df_genetic_pgs, \n",
    "    tau = QUANTILES)\n",
    "\n",
    "fit_coefficients <- summary(rq_fit, se=\"ker\")\n",
    "fit_coefficients\n"
   ]
  },
  {
   "cell_type": "code",
   "execution_count": null,
   "id": "8aafcd31-9f91-42df-a9fa-c1d6b88368ca",
   "metadata": {
    "vscode": {
     "languageId": "r"
    }
   },
   "outputs": [],
   "source": [
    "rq_fit <- rq(\n",
    "    wb5ht ~ \n",
    "    score_rescaled, \n",
    "    data = df_core_pgs, \n",
    "    tau = QUANTILES)\n",
    "\n",
    "fit_coefficients <- summary(rq_fit, se=\"ker\")\n",
    "fit_coefficients\n"
   ]
  },
  {
   "cell_type": "code",
   "execution_count": null,
   "id": "eec07fec-7401-4d39-9aaa-9ff5e548e39e",
   "metadata": {
    "vscode": {
     "languageId": "r"
    }
   },
   "outputs": [],
   "source": [
    "rq_fit <- rq(\n",
    "    wb5ht ~ \n",
    "    score_rescaled + site, \n",
    "    data = df_core_pgs, \n",
    "    tau = QUANTILES)\n",
    "\n",
    "fit_coefficients <- summary(rq_fit, se=\"ker\")\n",
    "fit_coefficients\n"
   ]
  },
  {
   "cell_type": "code",
   "execution_count": null,
   "id": "719e6494-36b7-4365-865f-fc00e634aacc",
   "metadata": {
    "vscode": {
     "languageId": "r"
    }
   },
   "outputs": [],
   "source": [
    "rq_fit <- rq(\n",
    "    wb5ht ~ \n",
    "    score_rescaled + site + sex, \n",
    "    data = df_core_pgs, \n",
    "    tau = QUANTILES)\n",
    "\n",
    "fit_coefficients <- summary(rq_fit, se=\"ker\")\n",
    "fit_coefficients\n"
   ]
  },
  {
   "cell_type": "code",
   "execution_count": null,
   "id": "4a965d77-317e-432d-860f-35d6ace965b1",
   "metadata": {
    "vscode": {
     "languageId": "r"
    }
   },
   "outputs": [],
   "source": [
    "rq_fit <- rq(\n",
    "    wb5ht_maternal ~ \n",
    "    score_rescaled + site, \n",
    "    data = df_core_pgs, \n",
    "    tau = QUANTILES)\n",
    "\n",
    "fit_coefficients <- summary(rq_fit, se=\"ker\")\n",
    "fit_coefficients\n"
   ]
  },
  {
   "cell_type": "code",
   "execution_count": null,
   "id": "75767a8b-50a2-4ae8-8ec8-61f6bdf6025b",
   "metadata": {
    "vscode": {
     "languageId": "r"
    }
   },
   "outputs": [],
   "source": [
    "rq_fit <- rq(\n",
    "    wb5ht ~ score_rescaled + site + sex, \n",
    "    data = df_core_pgs, \n",
    "    tau = QUANTILES)\n",
    "\n",
    "fit_coefficients <- summary(rq_fit, se=\"ker\")\n",
    "fit_coefficients\n"
   ]
  },
  {
   "cell_type": "code",
   "execution_count": null,
   "id": "d50c4f30-6570-49a6-98f6-fb6da9c6af56",
   "metadata": {
    "vscode": {
     "languageId": "r"
    }
   },
   "outputs": [],
   "source": [
    "rq_fit <- rq(\n",
    "    wb5ht_paternal ~ score_rescaled + site + sex, \n",
    "    data = df_core_pgs, \n",
    "    tau = QUANTILES)\n",
    "\n",
    "fit_coefficients <- summary(rq_fit, se=\"ker\")\n",
    "fit_coefficients\n"
   ]
  },
  {
   "cell_type": "code",
   "execution_count": null,
   "id": "eb9f36f6-8e09-4481-873b-ac0f8f1a983f",
   "metadata": {
    "vscode": {
     "languageId": "r"
    }
   },
   "outputs": [],
   "source": [
    "rq_fit <- rq(\n",
    "    wb5ht_maternal ~ score_rescaled + site + sex, \n",
    "    data = df_core_pgs, \n",
    "    tau = QUANTILES)\n",
    "\n",
    "fit_coefficients <- summary(rq_fit, se=\"ker\")\n",
    "fit_coefficients\n"
   ]
  },
  {
   "cell_type": "code",
   "execution_count": null,
   "id": "fed8f53b-75c3-4f77-afd2-aa59d9e4455c",
   "metadata": {
    "vscode": {
     "languageId": "r"
    }
   },
   "outputs": [],
   "source": [
    "fit_coefficients <- summary(rq_fit, se=\"ker\")"
   ]
  },
  {
   "cell_type": "code",
   "execution_count": null,
   "id": "c01ea432-b334-485b-a6d5-8fd368bd1334",
   "metadata": {
    "vscode": {
     "languageId": "r"
    }
   },
   "outputs": [],
   "source": [
    "model <- lm(\n",
    "    wb5ht_maternal_transformed ~ SCORE,\n",
    "    data = df_core_pgs)\n",
    "\n",
    "summary(model)\n",
    "tidy(model, conf.int = TRUE)"
   ]
  },
  {
   "cell_type": "code",
   "execution_count": null,
   "id": "daed4bcb-c4a9-4c36-b0e8-1078f586f648",
   "metadata": {
    "vscode": {
     "languageId": "r"
    }
   },
   "outputs": [],
   "source": [
    "lm(df_core_pgs ~\n",
    "   \n",
    "   \n",
    "   model <- lm(\n",
    "    ados_sa_css ~ \n",
    "        wb5ht_maternal + \n",
    "        site +\n",
    "        sex +\n",
    "        race_white +\n",
    "        race_black +\n",
    "        race_asian +\n",
    "        ethnicity_latin,\n",
    "    data = df_core)\n",
    "\n",
    "summary(model)\n",
    "tidy(model, conf.int=TRUE)"
   ]
  },
  {
   "cell_type": "code",
   "execution_count": null,
   "id": "23542f74-428d-48ea-9acc-e25093b4d79d",
   "metadata": {
    "vscode": {
     "languageId": "r"
    }
   },
   "outputs": [],
   "source": [
    "df_pgs$fam |> unique()"
   ]
  },
  {
   "cell_type": "markdown",
   "id": "6bd5c709-c167-4534-b6cf-16a9fd28717d",
   "metadata": {},
   "source": [
    "# Table 1: Descriptive stats"
   ]
  },
  {
   "cell_type": "code",
   "execution_count": null,
   "id": "0072a887-e04c-43d6-8ba2-39c3887b572d",
   "metadata": {
    "vscode": {
     "languageId": "r"
    }
   },
   "outputs": [],
   "source": [
    "df_core <- df_genetic_no_outliers\n",
    "\n",
    "table_df <- df_core |> \n",
    "    select(\n",
    "        age,\n",
    "        variant,\n",
    "        site, \n",
    "        sex,\n",
    "        race,\n",
    "        ethnicity,\n",
    "        wb5ht,\n",
    "        wb5ht_maternal,\n",
    "        wb5ht_paternal,\n",
    "    ) \n",
    "\n",
    "table_df$race <- recode_factor(table_df$race, \n",
    "    `african-amer` = \"Black\", \n",
    "    white = \"White\",\n",
    "    asian = \"Asian\",\n",
    "    `more-than-one-race` = \"More than one race\",\n",
    "    `not-specified` = \"Not specified\")\n",
    "\n",
    "table_df$sex <- recode_factor(table_df$sex, \n",
    "    male = \"Male\", \n",
    "    female = \"Female\")\n",
    "\n",
    "table_df$ethnicity <- recode_factor(table_df$ethnicity, \n",
    "    hispanic = \"Latine\", \n",
    "    `non-hispanic` = \"Non-Latine\")\n"
   ]
  },
  {
   "cell_type": "code",
   "execution_count": null,
   "id": "717e432f-a474-4e98-9b34-f1ae13534241",
   "metadata": {
    "vscode": {
     "languageId": "r"
    }
   },
   "outputs": [],
   "source": [
    "table_df <- table_df |> select(-wb5ht_maternal, -wb5ht_paternal)"
   ]
  },
  {
   "cell_type": "code",
   "execution_count": null,
   "id": "25c6cf7e-40e3-4c7b-9d5c-8ecf7fde12b7",
   "metadata": {
    "vscode": {
     "languageId": "r"
    }
   },
   "outputs": [],
   "source": [
    "datapoints_2 <- table_df |> mutate(id = as.character(row_number())) |>\n",
    "    select(id, age, variant, site, sex, race, ethnicity) |>\n",
    "    rename(age_months = age)"
   ]
  },
  {
   "cell_type": "code",
   "execution_count": null,
   "id": "4273ba04-8145-420d-8149-0c5c1cb45b12",
   "metadata": {
    "vscode": {
     "languageId": "r"
    }
   },
   "outputs": [],
   "source": [
    "write_csv(datapoints_2, \"datapoints_2.csv\")"
   ]
  },
  {
   "cell_type": "code",
   "execution_count": null,
   "id": "b94ef166-d391-4d27-8454-1fbda56f9bf3",
   "metadata": {
    "vscode": {
     "languageId": "r"
    }
   },
   "outputs": [],
   "source": [
    "df_core <- df_genetic_no_outliers\n",
    "\n",
    "table_df <- df_core |> \n",
    "    select(\n",
    "        age,\n",
    "        variant,\n",
    "        site, \n",
    "        sex,\n",
    "        race,\n",
    "        ethnicity,\n",
    "        wb5ht,\n",
    "        wb5ht_maternal,\n",
    "        wb5ht_paternal,\n",
    "    ) \n",
    "\n",
    "table_df$race <- recode_factor(table_df$race, \n",
    "    `african-amer` = \"Black\", \n",
    "    white = \"White\",\n",
    "    asian = \"Asian\",\n",
    "    `more-than-one-race` = \"More than one race\",\n",
    "    `not-specified` = \"Not specified\")\n",
    "\n",
    "table_df$sex <- recode_factor(table_df$sex, \n",
    "    male = \"Male\", \n",
    "    female = \"Female\")\n",
    "\n",
    "table_df$ethnicity <- recode_factor(table_df$ethnicity, \n",
    "    hispanic = \"Latine\", \n",
    "    `non-hispanic` = \"Non-Latine\")\n",
    "\n",
    "table1 <- table_df |> tbl_summary(\n",
    "    by = variant,\n",
    "    type = list(\n",
    "        age ~ \"continuous\"),\n",
    "    statistic = all_continuous() ~ \"{mean} ({sd})\",\n",
    "    digits = all_continuous() ~ 2,\n",
    "    include = c(\n",
    "        age,\n",
    "        site,\n",
    "        sex,\n",
    "        race,\n",
    "        ethnicity),\n",
    "    label = list(\n",
    "        age ~ \"Age in years\",\n",
    "        site ~ \"Study site\",\n",
    "        sex ~ \"Sex\",\n",
    "        race ~ \"Race\",\n",
    "        ethnicity ~ \"Ethnicity\"),\n",
    "    missing = \"no\") |>\n",
    "    add_overall(last = FALSE) |>\n",
    "    modify_column_alignment(columns = all_stat_cols(), align = \"right\") |>\n",
    "    modify_spanning_header(\n",
    "        all_stat_cols() ~ \"**Demographic characteristics of study participants by variant status**\") |>\n",
    "    add_p(pvalue_fun = ~ style_pvalue(.x, digits = 2)) |>\n",
    "    as_gt() |>\n",
    "    gtsave(here(\"output\",\"table1.html\"))"
   ]
  },
  {
   "cell_type": "code",
   "execution_count": null,
   "id": "199f643e-9625-4d39-9eb8-7825d829717c",
   "metadata": {
    "vscode": {
     "languageId": "r"
    }
   },
   "outputs": [],
   "source": [
    "table3 <- table_df |> tbl_summary(\n",
    "    by = class,\n",
    "    type = list(\n",
    "        ados_sa_css ~ \"continuous\",\n",
    "        ados_rrb_css ~ \"continuous\"),\n",
    "    statistic = all_continuous() ~ \"{mean} ({sd})\",\n",
    "    digits = all_continuous() ~ 2,\n",
    "    include = c(\n",
    "        wb5ht,\n",
    "        wb5ht_maternal,\n",
    "        wb5ht_paternal,\n",
    "        ados_sa_css,\n",
    "        ados_rrb_css,\n",
    "        adi_r_soc_a_total,\n",
    "        adi_r_comm_b_non_verbal_total,\n",
    "        adi_r_rrb_c_total,\n",
    "        vineland_ii_composite_standard_score,\n",
    "        ssc_diagnosis_nonverbal_iq),\n",
    "    label = list(\n",
    "        wb5ht ~ \"Proband WB5-HT\",\n",
    "        wb5ht_maternal ~ \"Maternal WB5-HT\",\n",
    "        wb5ht_paternal ~ \"Paternal WB5-HT\",\n",
    "        ados_sa_css ~ \"ADOS SA CSS\",\n",
    "        ados_rrb_css ~ \"ADOS RRB CSS\",\n",
    "        adi_r_soc_a_total ~ \"ADI-R domain A\",\n",
    "        adi_r_comm_b_non_verbal_total ~ \"ADI-R domain B\",\n",
    "        adi_r_rrb_c_total ~ \"ADI-R domain C\",\n",
    "        vineland_ii_composite_standard_score ~ \"VABS-II composite\",\n",
    "        ssc_diagnosis_nonverbal_iq ~ \"Nonverbal IQ\"),\n",
    "    missing = \"no\") |>\n",
    "    add_overall(last = TRUE) |>\n",
    "    modify_column_alignment(columns = all_stat_cols(), align = \"right\") |>\n",
    "    modify_header(\n",
    "        label = '**Measure**') |>\n",
    "    modify_spanning_header(\n",
    "        all_stat_cols() ~ \"**WB5-HT levels and behavioral measure scores of study participants by class**\") |>\n",
    "    add_p(pvalue_fun = ~ style_pvalue(.x, digits = 2)) |>\n",
    "    as_gt() |>\n",
    "    gtsave(here(\"output\",\"table3.html\"))"
   ]
  },
  {
   "cell_type": "code",
   "execution_count": null,
   "id": "e8d0180b-e543-4f6f-bb10-02fc178a3601",
   "metadata": {
    "vscode": {
     "languageId": "r"
    }
   },
   "outputs": [],
   "source": [
    "table <- table_df |> tbl_summary(\n",
    "    by = class,\n",
    "    type = list(\n",
    "        ados_sa_css ~ \"continuous\",\n",
    "        ados_rrb_css ~ \"continuous\"),\n",
    "    statistic = all_continuous() ~ \"{mean} ({sd})\",\n",
    "    digits = all_continuous() ~ 2,\n",
    "    label = list(\n",
    "        age ~ \"Age in years\",\n",
    "        site ~ \"Study site\",\n",
    "        sex ~ \"Sex\",\n",
    "        race ~ \"Race\",\n",
    "        ethnicity ~ \"Ethnicity\",\n",
    "        wb5ht ~ \"Proband WB5-HT\",\n",
    "        wb5ht_maternal ~ \"Maternal WB5-HT\",\n",
    "        wb5ht_paternal ~ \"Paternal WB5-HT\",\n",
    "        ados_sa_css ~ \"ADOS SA CSS\",\n",
    "        ados_rrb_css ~ \"ADOS RRB CSS\",\n",
    "        adi_r_soc_a_total ~ \"ADI-R domain A\",\n",
    "        adi_r_comm_b_non_verbal_total ~ \"ADI-R domain B\",\n",
    "        adi_r_rrb_c_total ~ \"ADI-R domain C\",\n",
    "        vineland_ii_composite_standard_score ~ \"VABS-II composite\",\n",
    "        ssc_diagnosis_nonverbal_iq ~ \"Nonverbal IQ\"),\n",
    "    missing = \"no\") |>\n",
    "    add_overall(last = FALSE) |>\n",
    "    modify_column_alignment(columns = all_stat_cols(), align = \"right\") |>\n",
    "    modify_spanning_header(\n",
    "        all_stat_cols() ~ \"**Demographic characteristics of study participants**\") |>\n",
    "    add_p() |>\n",
    "    as_gt() |>\n",
    "    gtsave(here(\"output\",\"test_table.html\"))"
   ]
  },
  {
   "cell_type": "markdown",
   "id": "7ca1d462-c08d-4ba3-9544-a3d2e10211e2",
   "metadata": {},
   "source": [
    "# Maternal WB5-HT by class membership"
   ]
  },
  {
   "cell_type": "code",
   "execution_count": null,
   "id": "05291a9b-95da-448b-b29f-60ceb573649c",
   "metadata": {
    "vscode": {
     "languageId": "r"
    }
   },
   "outputs": [],
   "source": [
    "df_core <- df_core |> mutate(class_3 = if_else(class == 3, 1, 0))"
   ]
  },
  {
   "cell_type": "markdown",
   "id": "0460240a-ae70-4792-9e3b-214f43558409",
   "metadata": {},
   "source": [
    "## Wilcoxon rank sum test"
   ]
  },
  {
   "cell_type": "code",
   "execution_count": null,
   "id": "2d93a886-eee3-41d3-b6d1-46cd6a803bfc",
   "metadata": {
    "vscode": {
     "languageId": "r"
    }
   },
   "outputs": [],
   "source": [
    "library(exactRankTests)"
   ]
  },
  {
   "cell_type": "code",
   "execution_count": null,
   "id": "0e0eae02-2115-4a94-93f7-d86ca8c4dd9a",
   "metadata": {
    "vscode": {
     "languageId": "r"
    }
   },
   "outputs": [],
   "source": [
    "wilcox.exact(wb5ht_maternal ~ class_3, df_core)"
   ]
  },
  {
   "cell_type": "markdown",
   "id": "44d6d7d5-0155-4bb0-8a2e-9fac511d79c0",
   "metadata": {},
   "source": [
    "## Harrell-Davis quantile estimator"
   ]
  },
  {
   "cell_type": "code",
   "execution_count": null,
   "id": "6cbaf3cc-1335-4935-adb4-ebd1c7c9aace",
   "metadata": {
    "vscode": {
     "languageId": "r"
    }
   },
   "outputs": [],
   "source": [
    "class_3_vs_non <- qcomhd(wb5ht_maternal ~ class_3, df_core)"
   ]
  },
  {
   "cell_type": "code",
   "execution_count": null,
   "id": "38d1c94c-6356-4f88-a529-a6114f588cd9",
   "metadata": {
    "vscode": {
     "languageId": "r"
    }
   },
   "outputs": [],
   "source": [
    "class_3_vs_non_table <- class_3_vs_non$partable |>\n",
    "    select(-c(p.crit)) |>\n",
    "    gt() |>\n",
    "    tab_header(\n",
    "        title = \"Maternal WB5-HT by quantile for probands in class 3 compared to class 1 or 2\") |>\n",
    "    cols_label(\n",
    "        q = \"QU\",\n",
    "        n1 = md(\"*N* (Class 1 or 2)\"),\n",
    "        n2 = md(\"*N* (Class 3)\"),\n",
    "        est1 = \"Median (Class 1 or 2)\",\n",
    "        est2 = \"Median (Class 3)\",\n",
    "        \"est1-est.2\" = \"Difference\",\n",
    "        ci.low = \"CI Lower\",\n",
    "        ci.up = \"CI Upper\",\n",
    "        p.value = md(\"*Adj. p*\")) |>\n",
    "    fmt_number(\n",
    "        columns = 4:8,\n",
    "        decimals = 2) |>\n",
    "    fmt_number(\n",
    "        columns = 9,\n",
    "        decimals = 3) |>\n",
    "    cols_align(\n",
    "        align = \"right\",\n",
    "        columns = everything()) |>\n",
    "    tab_style(\n",
    "        style = cell_text(weight = \"bold\"),\n",
    "        locations = cells_body(\n",
    "            rows = p.value < 0.05))"
   ]
  },
  {
   "cell_type": "code",
   "execution_count": null,
   "id": "49dec1b9-805d-4a10-ba95-b67a497b4d18",
   "metadata": {
    "vscode": {
     "languageId": "r"
    }
   },
   "outputs": [],
   "source": [
    "class_3_vs_non_table |> gtsave(\"class_3_vs_non.html\")"
   ]
  }
 ],
 "metadata": {
  "kernelspec": {
   "display_name": "R",
   "language": "R",
   "name": "ir"
  },
  "language_info": {
   "codemirror_mode": "r",
   "file_extension": ".r",
   "mimetype": "text/x-r-source",
   "name": "R",
   "pygments_lexer": "r",
   "version": "4.2.2"
  }
 },
 "nbformat": 4,
 "nbformat_minor": 5
}
